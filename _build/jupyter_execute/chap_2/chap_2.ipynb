{
 "cells": [
  {
   "cell_type": "code",
   "execution_count": 1,
   "metadata": {},
   "outputs": [
    {
     "data": {
      "text/plain": [
       "'%.3f'"
      ]
     },
     "execution_count": 1,
     "metadata": {},
     "output_type": "execute_result"
    }
   ],
   "source": [
    "# モジュール・ライブラリのインポート（必ず最初に実行）\n",
    "import sys, os\n",
    "import numpy as np\n",
    "import matplotlib.pyplot as plt\n",
    "import pandas as pd\n",
    "\n",
    "# 日本語フォントの設定（Mac:'Hiragino Sans', Windows:'MS Gothic'）\n",
    "plt.rcParams['font.family'] = 'MS Gothic'\n",
    "\n",
    "# 表記の設定\n",
    "pd.set_option('display.precision', 3)   # 小数点以下の表示桁\n",
    "pd.set_option('display.max_rows', 20)  # 表示する行数\n",
    "pd.set_option('display.max_columns', 10)  # 表示する行数\n",
    "%precision 3"
   ]
  },
  {
   "cell_type": "markdown",
   "metadata": {},
   "source": [
    "# プログラミング環境の構築"
   ]
  },
  {
   "cell_type": "markdown",
   "metadata": {},
   "source": [
    "## Anacondaのインストール\n",
    "\n",
    "- Anacondaのアンインストール（環境再構築の場合）\n",
    "  - コントロールパネル > プログラムのアンインストール\n",
    "  - Anacondaを選択してアンインストール\n",
    "  - anaconda3というフォルダが残っている場合は手動で削除する\n",
    "    - ユーザフォルダまたはCドライブ直下を確認\n",
    "  - PC再起動\n",
    "- インストーラのダウンロード\n",
    "  - [Anaconda Distribution](https://www.anaconda.com/download) にアクセス\n",
    "  - Anacondaをダウンロード\n",
    "- Anacondaのインストール\n",
    "  - Select Installation TypeでJust Meを選ぶ\n",
    "  - Choose Install LocationはデフォルトのままでOKだが，anacondaのインストール先のパスに日本語が含まれるとうまくいかないので注意\n",
    "    - 例：C:\\Users\\ユーザ名\\Anaconda3\n",
    "  - Advanced Installation Optionsで以下の2つに必ずチェックを入れる\n",
    "    - Add Anaconda3 to my PATH environment variable\n",
    "    - Register Anaconda3 as my default Python 3.9\n",
    "- Anaconda Navigatorを起動して，インストールが成功しているか確認する（適宜アップデートする）"
   ]
  },
  {
   "cell_type": "markdown",
   "metadata": {},
   "source": [
    "## 作業フォルダの作成\n",
    "\n",
    "データ分析では，様々なファイルを扱わなければならない．\n",
    "これらのファイルが自分のPC内のどこに保存されているかを把握しておかないと，ファイルを探すだけで時間を取られてしまう．\n",
    "データ分析を始める際にまず行うべきことは，PC内のフォルダやファイルを整理することである．\n",
    "\n",
    "まず本講義専用の作業フォルダを作成する．\n",
    "フォルダ名は自分で分かれば何でも良いが（英数字の方が望ましい），スペースは絶対に入れないこと．\n",
    "作業フォルダの作成場所はクラウドストレージのフォルダ（例えば，OneDrive）の中に作ることを推奨する（こうすれば，自動的にクラウド上にバックアップされる）．\n",
    "\n",
    "ここでは，`ローカルディスク（C:）>ユーザー>username>OneDrive`の中に`情報処理の応用`という作業フォルダを作ったとする：\n",
    "```\n",
    "[OneDrive]\n",
    "    - [デスクトップ]\n",
    "    - [ドキュメント]\n",
    "    ...\n",
    "    - [情報処理の応用]\n",
    "\n",
    "```"
   ]
  },
  {
   "cell_type": "markdown",
   "metadata": {},
   "source": [
    "本講義で扱うファイルは全てこの`情報処理の応用`フォルダの中に保存する．\n",
    "`情報処理の応用`フォルダの中身は次のように章ごとのサブフォルダやレポート用のフォルダに分けておくと良い：\n",
    "```\n",
    "[情報処理の応用]\n",
    "    - [chap_1]\n",
    "    - [chap_2]\n",
    "    ...\n",
    "    - [report]\n",
    "    - [others]\n",
    "```"
   ]
  },
  {
   "cell_type": "markdown",
   "metadata": {},
   "source": [
    "## Jupyter Labの運用\n",
    "\n",
    "Anacondaをインストールすると，自動的にJupyter Labが使えるようになる．\n",
    "本講義では演習の時間を設けるので，その際には以下のようにJupyter Labを運用する．"
   ]
  },
  {
   "cell_type": "markdown",
   "metadata": {},
   "source": [
    "### Jupyter Labの起動\n",
    "\n",
    "- Anaconda Navigatorを起動\n",
    "    - ［スタートメニュー］→［Anaconda Navigator (anaconda3)］\n",
    "- ［Jupyter Lab］をLaunch"
   ]
  },
  {
   "cell_type": "markdown",
   "metadata": {},
   "source": [
    "### ノートブック（.ipynbファイル）の起動"
   ]
  },
  {
   "cell_type": "markdown",
   "metadata": {},
   "source": [
    "- `.ipynb`ファイルをダウンロードし，作業フォルダ内に保存する．\n",
    "    - 講義ノート上部のアイコンから`.ipynb`をクリック\n",
    "    - 自動保存された場合は`ダウンロード`フォルダ内に保存されているはず\n",
    "- Jupyter Lab左上のフォルダアイコンをクリックする．\n",
    "- .ipynbファイルを保存したフォルダに移動し，`.ipynb`ファイルをダブルクリックする．"
   ]
  },
  {
   "cell_type": "markdown",
   "metadata": {},
   "source": [
    "## パス（Path）について\n",
    "\n",
    "### パスとは何か？\n",
    "\n",
    "自分のPCに保存されたファイルをJupyter Labに読み込んだり，逆にJupyter Labで作成した図などを自分のPCに保存するには，対象となるファイルの在り処，つまりアドレスが分からないといけない．\n",
    "このアドレスを指定する文字列のことをパス（Path）と呼ぶ．\n",
    "\n",
    "Windowsの場合，パスはフォルダの階層構造を区切り文字`¥`（またはバックスラッシュ`\\`）によって区切った形式で以下のように表される：\n",
    "\n",
    "```\n",
    "C:¥ユーザー¥ドキュメント\n",
    "```"
   ]
  },
  {
   "cell_type": "markdown",
   "metadata": {},
   "source": [
    "フォルダの階層の区切りは`¥`（またはバックスラッシュ`\\\\`）によって表されており，`¥`の隣にはフォルダの名前が記載されている．\n",
    "上の例は，Cドライブ（`C:`）の中にある`ユーザー`フォルダの中の`ドキュメント`フォルダのパスを表す．"
   ]
  },
  {
   "cell_type": "markdown",
   "metadata": {},
   "source": [
    "### 相対パスと絶対パス\n",
    "パスには相対パスと絶対パスの2種類が存在する．"
   ]
  },
  {
   "cell_type": "markdown",
   "metadata": {},
   "source": [
    "**相対パス**\n",
    "\n",
    "現在自分がいるフォルダのことを**カレントディレクトリ**と呼ぶ．\n",
    "通常は，Jupyter Labで開いている`.ipynb`ファイルが保存されているフォルダがカレントディレクトリとなる．\n",
    "相対パスとはカレントディレクトリからの相対的な位置を示す方法で，例えば以下のように指定する：\n",
    "```\n",
    "./test.pdf\n",
    "```\n",
    "ここで，先頭の`.`はカレントディレクトリ（`sec_1-3.ipynb`が保存されているフォルダ）を意味する文字である．\n",
    "よって，この場合はカレントディレクトリの中にある`test.pdf`というファイルを示すパスとなる．\n",
    "\n",
    "練習として，以下のコードを実行してみよう．\n",
    "カレントディレクトリの中に`test.pdf`というファイルができるはずである．"
   ]
  },
  {
   "cell_type": "code",
   "execution_count": 7,
   "metadata": {},
   "outputs": [
    {
     "data": {
      "image/png": "[encoded data removed]",
      "text/plain": [
       "<Figure size 350x300 with 1 Axes>"
      ]
     },
     "metadata": {},
     "output_type": "display_data"
    }
   ],
   "source": [
    "fig, ax = plt.subplots(figsize=(3.5, 3))\n",
    "x = np.arange(-np.pi, np.pi, 0.01)\n",
    "ax.plot(x, np.sin(x))\n",
    "ax.set_xlabel('横軸') # 横軸のラベル\n",
    "ax.set_ylabel('縦軸') # 縦軸のラベル\n",
    "ax.set_title('三角関数のグラフ', fontsize=12) # タイトル\n",
    "\n",
    "fig.savefig('./test.pdf', bbox_inches=\"tight\", pad_inches=0.2, transparent=True, dpi=300)"
   ]
  },
  {
   "cell_type": "markdown",
   "metadata": {},
   "source": [
    "**絶対パス**\n",
    "\n",
    "最も上の階層であるドライブ名（通常は`C:`）から始まるパスを**絶対パス**と呼ぶ．\n",
    "Windowsにおいて絶対パスを取得（コピー）するには以下のようにする：\n",
    "\n",
    "- エクスプローラー上で対象のファイルやフォルダに対しshiftキーを押しながら右クリック\n",
    "- 「パスのコピー」を選択\n",
    "\n"
   ]
  },
  {
   "cell_type": "markdown",
   "metadata": {},
   "source": [
    "なお，Windows環境においてパスをコピーして貼り付けると\n",
    "``\n",
    "C:\\ユーザー\\ユーザー名\\OneDrive\\情報処理の応用\n",
    "``\n",
    "のように区切り文字がバックスラッシュ`\\`または`¥`になるはずである．\n",
    "ところが，pythonではバックスラッシュ`\\`と文字を組み合わせたエスケープシーケンスいう特別な文字列が存在し，例えば，`\\n`は改行，`\\t`はタブを表すエスケープシーケンスとなる．\n",
    "これにより，上の例の中にある`\\t`の部分はパスの区切りではなくエスケープシーケンスとして認識され，エラーが出ることがある（特に，pythonでファイルの入出力を行うとき）．\n",
    "これを回避するには以下のように先頭に`r`を付ける\n",
    "```\n",
    "r\"C:\\ユーザー\\ユーザー名\\OneDrive\\情報処理の応用\"\n",
    "```\n",
    "これは，raw文字列と呼ばれ，\"\"の中に指定した文字列をそのままの形で認識させることができる．"
   ]
  },
  {
   "cell_type": "markdown",
   "metadata": {},
   "source": [
    "実際に，自分の好きなフォルダのパスをコピーし，`test2.pdf`という名前で図を保存してみよう．"
   ]
  },
  {
   "cell_type": "code",
   "execution_count": null,
   "metadata": {},
   "outputs": [],
   "source": [
    "import numpy as np\n",
    "import matplotlib.pyplot as plt\n",
    "\n",
    "fig, ax = plt.subplots(figsize=(3.5, 3))\n",
    "x = np.arange(-np.pi, np.pi, 0.01)\n",
    "ax.plot(x, np.sin(x))\n",
    "\n",
    "fig.savefig(, bbox_inches=\"tight\", pad_inches=0.2, transparent=True, dpi=300)"
   ]
  },
  {
   "cell_type": "markdown",
   "metadata": {},
   "source": [
    "## Maplotlibの日本語対応\n",
    "\n",
    "Matplotlibはグラフ作成のためのライブラリである．\n",
    "Matplotlibは標準で日本語に対応していないが，以下の2つの方法で日本語を出力することができる"
   ]
  },
  {
   "cell_type": "markdown",
   "metadata": {},
   "source": [
    "**1. matplotlibで使用する日本語フォントを設定する**"
   ]
  },
  {
   "cell_type": "markdown",
   "metadata": {},
   "source": [
    "pipでのインストールを行いたくない場合は，matplotlib用の日本語フォントその都度指定する方法もある．\n",
    "以下のように，好きな日本語フォントを使用できるが，WindowsやMacによって使用可能なフォントが異なるので注意する．\n",
    "フォントにこだわりがなければ，Windowsの場合は'MS Gothic'，Macの場合は'Hiragino Sans'としておけば良い．"
   ]
  },
  {
   "cell_type": "code",
   "execution_count": 8,
   "metadata": {},
   "outputs": [],
   "source": [
    "# 日本語フォントの設定（Mac:'Hiragino Sans'，Windows: 'MS Gothic'）\n",
    "import matplotlib.pyplot as plt\n",
    "plt.rcParams['font.family'] = 'MS Gothic'"
   ]
  },
  {
   "cell_type": "markdown",
   "metadata": {},
   "source": [
    "**方法2： japanize_matplotlib を利用する**\n",
    "\n",
    "- 2024年9月現在，Python 3.12以上ではjapanize_matplotlibが使えない．\n",
    "- 代わりに`matplotlob-fontja`が公開されている（詳しくは[こちら](https://github.com/ciffelia/matplotlib-fontja)）．"
   ]
  }
 ],
 "metadata": {
  "kernelspec": {
   "display_name": "myenv",
   "language": "python",
   "name": "python3"
  },
  "language_info": {
   "codemirror_mode": {
    "name": "ipython",
    "version": 3
   },
   "file_extension": ".py",
   "mimetype": "text/x-python",
   "name": "python",
   "nbconvert_exporter": "python",
   "pygments_lexer": "ipython3",
   "version": "3.12.5"
  },
  "toc-autonumbering": true,
  "toc-showcode": false,
  "toc-showmarkdowntxt": false,
  "toc-showtags": false
 },
 "nbformat": 4,
 "nbformat_minor": 4
}