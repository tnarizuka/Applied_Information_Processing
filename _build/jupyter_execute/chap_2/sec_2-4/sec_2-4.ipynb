{
 "cells": [
  {
   "cell_type": "code",
   "execution_count": 1,
   "metadata": {},
   "outputs": [
    {
     "data": {
      "text/plain": [
       "'%.3f'"
      ]
     },
     "execution_count": 1,
     "metadata": {},
     "output_type": "execute_result"
    }
   ],
   "source": [
    "# モジュール・ライブラリのインポート（必ず最初に実行）\n",
    "import sys, os\n",
    "import numpy as np\n",
    "import matplotlib.pyplot as plt\n",
    "import pandas as pd\n",
    "import scipy as sp\n",
    "from scipy import optimize\n",
    "\n",
    "# 日本語フォントの設定（Mac:'Hiragino Sans', Windows:'MS Gothic'）\n",
    "plt.rcParams['font.family'] = 'Hiragino Sans'\n",
    "\n",
    "# 表記の設定\n",
    "pd.set_option('display.precision', 3)   # 小数点以下の表示桁\n",
    "pd.set_option('display.max_rows', 20)  # 表示する行数\n",
    "pd.set_option('display.max_columns', 10)  # 表示する行数\n",
    "%precision 3"
   ]
  },
  {
   "cell_type": "markdown",
   "metadata": {},
   "source": [
    "# 散布図・相関分析による問題解決"
   ]
  },
  {
   "attachments": {},
   "cell_type": "markdown",
   "metadata": {},
   "source": [
    "## 単回帰モデル"
   ]
  },
  {
   "attachments": {},
   "cell_type": "markdown",
   "metadata": {},
   "source": [
    "量的データ $ X, Y $ が与えられたとき，変数 $ X $ の値から $ Y $ の値を予測するための数式のことを**回帰モデル**と呼ぶ．\n",
    "また，$ X $ を**説明変数**（独立変数），$ Y $ を**目的変数**（従属変数，被説明変数）と呼ぶ．\n",
    "\n",
    "回帰モデルには様々な種類が存在するが，以下の散布図のように変数 $ X,\\ Y $ の間に直線関係が成り立ちそうな場合には，回帰モデルとして1次関数\n",
    "\n",
    "$$\n",
    "\t\\hat{y} = ax + b\n",
    "$$(eq:regression_line)\n",
    "\n",
    "を用いるのが妥当である．\n",
    "このように１次関数による回帰モデルは**単回帰モデル**と呼ばれ，式{eq}`eq:regression_line`の直線のことは**回帰直線**と呼ばれる．\n",
    "また，$ a,\\ b $ は回帰直線の切片と傾きを表すパラメータであり，**回帰係数**と呼ばれる．"
   ]
  },
  {
   "cell_type": "code",
   "execution_count": 9,
   "metadata": {},
   "outputs": [],
   "source": [
    "# データの作成\n",
    "np.random.seed(1234)\n",
    "x_data = np.linspace(-10, 10, num=100)\n",
    "y_data = 2*x_data + 5 + 5.*np.random.randn(x_data.size)\n",
    "np.savetxt('./data_lsm.csv', np.c_[x_data, y_data], fmt='%.2f', delimiter=',')"
   ]
  },
  {
   "cell_type": "code",
   "execution_count": 10,
   "metadata": {},
   "outputs": [
    {
     "data": {
      "text/plain": [
       "Text(0, 0.5, '$Y$')"
      ]
     },
     "execution_count": 10,
     "metadata": {},
     "output_type": "execute_result"
    },
    {
     "data": {
      "image/png": "[encoded data removed]",
      "text/plain": [
       "<Figure size 350x300 with 1 Axes>"
      ]
     },
     "metadata": {
      "filenames": {
       "image/png": "/Users/narizuka/work/document/lecture/rissho/info_process/2022/material/_build/jupyter_execute/chap_2/sec_2-4/sec_2-4_5_1.png"
      }
     },
     "output_type": "display_data"
    }
   ],
   "source": [
    "fig, ax = plt.subplots()\n",
    "ax.plot(x_data, y_data, 'ko', mfc='None')\n",
    "ax.set_xlabel('$X$', fontsize=15)\n",
    "ax.set_ylabel('$Y$', fontsize=15)"
   ]
  },
  {
   "attachments": {},
   "cell_type": "markdown",
   "metadata": {},
   "source": [
    "## 最小二乗法"
   ]
  },
  {
   "attachments": {},
   "cell_type": "markdown",
   "metadata": {},
   "source": [
    "１つの説明変数と目的変数から成る $ n $ 組のデータ $ (x_{1}, y_{1}), \\ldots, (x_{n}, y_{n}) $ が与えられたとき，単回帰モデル{eq}`eq:regression_line`を用いてデータから最適な回帰直線を求めることを**単回帰分析**と呼ぶ（説明変数が複数ある場合は重回帰分析と呼ぶ）．\n",
    "単回帰分析には様々な方法があるが，最も基本的な方法が**最小二乗法**である．\n",
    "\n",
    "最小二乗法では，予測値 $ \\hat{y}_{i}=ax_{i}+b $ と実データ $ y_{i} $ の差の二乗和\n",
    "\n",
    "$$\n",
    "\tE(a, b) = \\sum_{i=1}^{n}(ax_{i}+b-y_{i})^{2}\n",
    "$$(eq:rss)\n",
    "\n",
    "が最小となるように回帰係数 $ a,\\ b $ を選ぶ．\n",
    "このとき，$ E $ のことを**残差変動**（残差平方和）と呼ぶ．\n",
    "残差変動 $ E $ を最小にすることは，$ a,\\ b $ を変数とする２次関数 $ E(a, b) $ の最小値を求めることと言い換えられる．\n",
    "このための必要条件は，残差変動 $ E(a, b) $ の $ a,\\ b $ による偏微分がゼロになることである：\n",
    "\n",
    "$$\n",
    "\t\\frac{\\partial E}{\\partial a} = 0, \\hspace{0.5cm} \\frac{\\partial E}{\\partial b} = 0\n",
    "$$\n",
    "\n",
    "実際にこれらの条件を適用すると，$ a,\\ b $ を変数とする以下の連立方程式が得られる：\n",
    "\n",
    "\\begin{align*}\n",
    "\t\\sum_{i=1}^{n} (ax_{i}+b-y_{i})x_{i} &= 0 \\\\\n",
    "\t\\sum_{i=1}^{n} (ax_{i}+b-y_{i}) &= 0\n",
    "\\end{align*}\n",
    "\n",
    "この連立方程式を解くと，$ a,\\ b $ は\n",
    "\n",
    "\\begin{align*}\n",
    "\ta &=\\frac{\\displaystyle\\left(\\frac{1}{n}\\sum_{i=1}^{n} x_{i}y_{i}\\right) - \\left(\\frac{1}{n} \\sum_{i=1}^{n}x_{i}\\right)\\left(\\frac{1}{n}\\sum_{i=1}^{n}y_{i}\\right)}{\\displaystyle \\left(\\frac{1}{n}\\sum_{i=1}^{n} x_{i}^{2}\\right) -  \\left(\\frac{1}{n}\\sum_{i=1}^{n}x_{i}\\right)^{2}}\n",
    "\t   = \\frac{\\overline{xy}-\\bar{x}\\bar{y}}{\\overline{x^2}-\\bar{x}^2} = \\frac{s_{XY}}{s_{X}^2} \\\\[10pt]\n",
    "\tb &= \\left(\\frac{1}{n} \\sum_{i=1}^{n}y_{i}\\right) - a\\left(\\frac{1}{n} \\sum_{i=1}^{n}x_{i}\\right) = \\bar{y} - a \\bar{x}\n",
    "\\end{align*}\n",
    "\n",
    "と求まる．\n",
    "\n",
    "なお，傾き $ a $ は $X, Y$ の共分散 $ s_{XY} $ を $ X $ の分散 $ s^{2}_{X} $ で割った形になっている（相関係数の式に似ているが違う）．\n",
    "よって，以下が成り立つ：\n",
    "\n",
    "- $ s_{XY}>0\\quad \\Longleftrightarrow\\quad a > 0 $　（正の相関）\n",
    "- $ s_{XY}=0\\quad \\Longleftrightarrow\\quad a = 0 $　（無相関）\n",
    "- $ s_{XY}<0\\quad \\Longleftrightarrow\\quad a < 0 $　（負の相関）"
   ]
  },
  {
   "cell_type": "markdown",
   "metadata": {},
   "source": [
    "**pythonによる実装**"
   ]
  },
  {
   "cell_type": "code",
   "execution_count": 11,
   "metadata": {},
   "outputs": [
    {
     "name": "stdout",
     "output_type": "stream",
     "text": [
      "[1.983 5.176]\n"
     ]
    }
   ],
   "source": [
    "# scipy.optimize.curve_fit\n",
    "def fit_func(x, a, b):\n",
    "    return a*x + b\n",
    "\n",
    "p = optimize.curve_fit(fit_func, x_data, y_data)[0]\n",
    "print(p)"
   ]
  },
  {
   "cell_type": "code",
   "execution_count": 12,
   "metadata": {},
   "outputs": [
    {
     "data": {
      "text/plain": [
       "(1.983, 5.176)"
      ]
     },
     "execution_count": 12,
     "metadata": {},
     "output_type": "execute_result"
    }
   ],
   "source": [
    "# 公式から\n",
    "nume = np.mean(x_data * y_data) - np.mean(x_data) * np.mean(y_data)\n",
    "denom = np.mean(x_data**2) - np.mean(x_data)**2\n",
    "a = nume / denom\n",
    "b = np.mean(y_data - a*x_data)\n",
    "(a, b)"
   ]
  },
  {
   "cell_type": "code",
   "execution_count": 13,
   "metadata": {},
   "outputs": [
    {
     "data": {
      "image/png": "[encoded data removed]",
      "text/plain": [
       "<Figure size 350x300 with 1 Axes>"
      ]
     },
     "metadata": {
      "filenames": {
       "image/png": "/Users/narizuka/work/document/lecture/rissho/info_process/2022/material/_build/jupyter_execute/chap_2/sec_2-4/sec_2-4_11_0.png"
      }
     },
     "output_type": "display_data"
    }
   ],
   "source": [
    "fig, ax = plt.subplots()\n",
    "ax.plot(x_data, y_data, 'ko', mfc='None')\n",
    "ax.plot(x_data, fit_func(x_data, p[0], p[1]), 'r-', mfc='None')\n",
    "ax.set_xlabel('$X$', fontsize=15)\n",
    "ax.set_ylabel('$Y$', fontsize=15)\n",
    "fig.savefig('./lsm_ex.png', bbox_inches=\"tight\", pad_inches=0.2, transparent=False, dpi=300) # 保存"
   ]
  },
  {
   "attachments": {},
   "cell_type": "markdown",
   "metadata": {},
   "source": [
    "## 決定係数\n",
    "\n",
    "$ n $ 組のデータ $ (x_{1}, y_{1}), \\ldots (x_{n}, y_{n}) $ に対して，データ $ Y $ のばらつきを\n",
    "\n",
    "$$\n",
    "  S_{y}^{2} = \\sum_{i=1}^{n} (y_{i} - \\bar{y})^{2}\n",
    "$$\n",
    "\n",
    "と定義する．\n",
    "これを**全変動**と呼ぶ．\n",
    "また，実データと予測値のズレは残差変動{eq}`eq:rss`によって表される．\n",
    "ここでは，残差変動を\n",
    "\n",
    "$$\n",
    "  \\displaystyle S_{e}^{2} = \\sum_{i=1}^{n} (y_{i} - \\hat{y}_{i})^{2}\n",
    "$$\n",
    "\n",
    "と表す．\n",
    "\n",
    "このとき，回帰直線のデータへの当てはまりの良さを\n",
    "\n",
    "$$\n",
    "\tR^{2} = 1 - \\frac{S_{e}^{2}}{S_{y}^{2}}\n",
    "$$(eq:R2)\n",
    "\n",
    "で定義する．\n",
    "これを**決定係数**と呼ぶ（他の定義もあるので注意）．\n",
    "\n",
    "最小二乗法による単回帰分析の場合，決定係数は $ X,\\ Y $ の相関係数の２乗に等しく，その定義域は $ 0 \\leq R^{2} \\leq 1 $ である．\n",
    "よって，以下が成り立つ\n",
    "- 残差変動 $ S_{e}^{2} $ が小さくなると $ R^{2} $ は $ 1 $ に近づく（データへの当てはまりが良い）\n",
    "- 残差変動 $ S_{e}^{2} $ が大きくなると $ R^{2} $ は $ 0 $ に近づく（データへの当てはまりが悪い）\n",
    "\n",
    "※ 予測値 $ \\hat{y} $ が最小二乗法以外の方法によって決められた場合，決定係数が負になることもあり，さらに相関係数の２乗にはならない．"
   ]
  },
  {
   "cell_type": "markdown",
   "metadata": {},
   "source": [
    "**pythonによる実装**"
   ]
  },
  {
   "cell_type": "code",
   "execution_count": 9,
   "metadata": {},
   "outputs": [
    {
     "data": {
      "text/plain": [
       "0.844"
      ]
     },
     "execution_count": 9,
     "metadata": {},
     "output_type": "execute_result"
    }
   ],
   "source": [
    "# 決定係数\n",
    "y_reg = fit_func(x_data, p[0], p[1])\n",
    "R2 = np.var(y_reg) / np.var(y_data)\n",
    "R2"
   ]
  },
  {
   "cell_type": "code",
   "execution_count": 20,
   "metadata": {},
   "outputs": [
    {
     "data": {
      "text/plain": [
       "0.844"
      ]
     },
     "execution_count": 20,
     "metadata": {},
     "output_type": "execute_result"
    }
   ],
   "source": [
    "# 相関係数の２乗\n",
    "r_xy = pd.DataFrame(np.c_[x_data, y_data]).corr()[0][1]\n",
    "r_xy**2"
   ]
  },
  {
   "attachments": {},
   "cell_type": "markdown",
   "metadata": {},
   "source": [
    "## 実例：都市の平均気温と緯度の関係"
   ]
  },
  {
   "attachments": {},
   "cell_type": "markdown",
   "metadata": {},
   "source": [
    "### STEP1: Problem\n",
    "- 地球上では，赤道付近は暑く，極地に近づくほど寒くなる．\n",
    "- 世界の様々な地域の年間平均気温はどのように決まっているのだろうか？"
   ]
  },
  {
   "attachments": {},
   "cell_type": "markdown",
   "metadata": {},
   "source": [
    "### STEP2: Plan\n",
    "- 世界の各地域で年間平均気温は異なっている．\n",
    "- 各地域での年間平均気温に影響を与える要因は，各地域の地球上での位置，都市の自然環境，人間活動などが考えられ，これらは{numref}`fig:fishbone`のようにまとめることができる（これを**特性要因図**と呼ぶ）．\n",
    "- 以下では，各都市の地球上での緯度と標高に着目し，年間平均気温との関係を探る．"
   ]
  },
  {
   "attachments": {},
   "cell_type": "markdown",
   "metadata": {},
   "source": [
    "```{figure} fishbone.png\n",
    "---\n",
    "height: 200px\n",
    "name: fig:fishbone\n",
    "---\n",
    "特性要因図\n",
    "```"
   ]
  },
  {
   "attachments": {},
   "cell_type": "markdown",
   "metadata": {},
   "source": [
    "### STEP3: Data\n",
    "\n",
    "- ここでは，理科年表から取得した世界25都市のデータ（[data_25city.csv](https://drive.google.com/uc?export=download&id=1eBbmZSCgVKF61s85kGyrofrLApdO-95J)）を用いる．\n",
    "- まずはダウンロードしたcsvファイルをpandasのDataFrameに読み込む．\n",
    "  - T列は年間平均気温，L列は緯度，Z列は標高を表している．"
   ]
  },
  {
   "cell_type": "code",
   "execution_count": 2,
   "metadata": {},
   "outputs": [
    {
     "data": {
      "text/html": [
       "<div>\n",
       "<style scoped>\n",
       "    .dataframe tbody tr th:only-of-type {\n",
       "        vertical-align: middle;\n",
       "    }\n",
       "\n",
       "    .dataframe tbody tr th {\n",
       "        vertical-align: top;\n",
       "    }\n",
       "\n",
       "    .dataframe thead th {\n",
       "        text-align: right;\n",
       "    }\n",
       "</style>\n",
       "<table border=\"1\" class=\"dataframe\">\n",
       "  <thead>\n",
       "    <tr style=\"text-align: right;\">\n",
       "      <th></th>\n",
       "      <th>name</th>\n",
       "      <th>T</th>\n",
       "      <th>L</th>\n",
       "      <th>Z</th>\n",
       "      <th>group</th>\n",
       "    </tr>\n",
       "  </thead>\n",
       "  <tbody>\n",
       "    <tr>\n",
       "      <th>0</th>\n",
       "      <td>昭和基地</td>\n",
       "      <td>-10.5</td>\n",
       "      <td>-69.00</td>\n",
       "      <td>18</td>\n",
       "      <td>5</td>\n",
       "    </tr>\n",
       "    <tr>\n",
       "      <th>1</th>\n",
       "      <td>メルボルン</td>\n",
       "      <td>14.5</td>\n",
       "      <td>-37.39</td>\n",
       "      <td>132</td>\n",
       "      <td>4</td>\n",
       "    </tr>\n",
       "    <tr>\n",
       "      <th>2</th>\n",
       "      <td>ブエノスアイレス</td>\n",
       "      <td>17.8</td>\n",
       "      <td>-34.35</td>\n",
       "      <td>25</td>\n",
       "      <td>3</td>\n",
       "    </tr>\n",
       "    <tr>\n",
       "      <th>3</th>\n",
       "      <td>ブリスベン</td>\n",
       "      <td>20.3</td>\n",
       "      <td>-27.23</td>\n",
       "      <td>4</td>\n",
       "      <td>3</td>\n",
       "    </tr>\n",
       "    <tr>\n",
       "      <th>4</th>\n",
       "      <td>リオデジャネイロ</td>\n",
       "      <td>23.9</td>\n",
       "      <td>-22.55</td>\n",
       "      <td>5</td>\n",
       "      <td>2</td>\n",
       "    </tr>\n",
       "    <tr>\n",
       "      <th>...</th>\n",
       "      <td>...</td>\n",
       "      <td>...</td>\n",
       "      <td>...</td>\n",
       "      <td>...</td>\n",
       "      <td>...</td>\n",
       "    </tr>\n",
       "    <tr>\n",
       "      <th>20</th>\n",
       "      <td>リオン</td>\n",
       "      <td>11.9</td>\n",
       "      <td>45.43</td>\n",
       "      <td>197</td>\n",
       "      <td>4</td>\n",
       "    </tr>\n",
       "    <tr>\n",
       "      <th>21</th>\n",
       "      <td>チューリッヒ</td>\n",
       "      <td>9.4</td>\n",
       "      <td>47.22</td>\n",
       "      <td>555</td>\n",
       "      <td>5</td>\n",
       "    </tr>\n",
       "    <tr>\n",
       "      <th>22</th>\n",
       "      <td>プラハ</td>\n",
       "      <td>8.4</td>\n",
       "      <td>50.06</td>\n",
       "      <td>380</td>\n",
       "      <td>5</td>\n",
       "    </tr>\n",
       "    <tr>\n",
       "      <th>23</th>\n",
       "      <td>ダブリン</td>\n",
       "      <td>9.8</td>\n",
       "      <td>53.26</td>\n",
       "      <td>68</td>\n",
       "      <td>5</td>\n",
       "    </tr>\n",
       "    <tr>\n",
       "      <th>24</th>\n",
       "      <td>レイキャビク</td>\n",
       "      <td>4.7</td>\n",
       "      <td>64.08</td>\n",
       "      <td>54</td>\n",
       "      <td>5</td>\n",
       "    </tr>\n",
       "  </tbody>\n",
       "</table>\n",
       "<p>25 rows × 5 columns</p>\n",
       "</div>"
      ],
      "text/plain": [
       "        name     T      L    Z  group\n",
       "0       昭和基地 -10.5 -69.00   18      5\n",
       "1      メルボルン  14.5 -37.39  132      4\n",
       "2   ブエノスアイレス  17.8 -34.35   25      3\n",
       "3      ブリスベン  20.3 -27.23    4      3\n",
       "4   リオデジャネイロ  23.9 -22.55    5      2\n",
       "..       ...   ...    ...  ...    ...\n",
       "20       リオン  11.9  45.43  197      4\n",
       "21    チューリッヒ   9.4  47.22  555      5\n",
       "22       プラハ   8.4  50.06  380      5\n",
       "23      ダブリン   9.8  53.26   68      5\n",
       "24    レイキャビク   4.7  64.08   54      5\n",
       "\n",
       "[25 rows x 5 columns]"
      ]
     },
     "execution_count": 2,
     "metadata": {},
     "output_type": "execute_result"
    }
   ],
   "source": [
    "D = pd.read_csv('./data_25city.csv')\n",
    "D"
   ]
  },
  {
   "attachments": {},
   "cell_type": "markdown",
   "metadata": {},
   "source": [
    "### STEP4: Analysis"
   ]
  },
  {
   "attachments": {},
   "cell_type": "markdown",
   "metadata": {},
   "source": [
    "#### 平均気温と標高の散布図\n",
    "- 各都市の年間平均気温 $ T $ と標高 $ Z $ の関係を視覚的に調べるため，散布図を作成する．\n",
    "- 以下の散布図には特定の関数関係はないため，年間平均気温と標高はそれほど関係ないと考えられる．\n",
    "- ただし，ボコダ，メキシコ，アジスアベバの3都市は標高が2000m以上であり，外れ値となっている．"
   ]
  },
  {
   "cell_type": "code",
   "execution_count": 3,
   "metadata": {},
   "outputs": [
    {
     "data": {
      "image/png": "[encoded data removed]",
      "text/plain": [
       "<Figure size 400x300 with 1 Axes>"
      ]
     },
     "metadata": {
      "filenames": {
       "image/png": "/Users/narizuka/work/document/lecture/rissho/info_process/2022/material/_build/jupyter_execute/chap_2/sec_2-4/sec_2-4_24_0.png"
      }
     },
     "output_type": "display_data"
    }
   ],
   "source": [
    "# 標高と平均気温の散布図\n",
    "fig, ax = plt.subplots(figsize=(4, 3))\n",
    "ax.plot(D['Z'], D['T'], 'bo', mfc='None')\n",
    "ax.set_xlim(0, 3000); ax.set_ylim(-15, 35)\n",
    "ax.set_xlabel('標高 $Z$ （$m$）')\n",
    "ax.set_ylabel('平均気温 $T$（℃）')\n",
    "fig.savefig('./alt_temp.png', bbox_inches=\"tight\", pad_inches=0.2, transparent=False, dpi=300) # 保存"
   ]
  },
  {
   "cell_type": "code",
   "execution_count": 5,
   "metadata": {},
   "outputs": [
    {
     "data": {
      "text/html": [
       "<div>\n",
       "<style scoped>\n",
       "    .dataframe tbody tr th:only-of-type {\n",
       "        vertical-align: middle;\n",
       "    }\n",
       "\n",
       "    .dataframe tbody tr th {\n",
       "        vertical-align: top;\n",
       "    }\n",
       "\n",
       "    .dataframe thead th {\n",
       "        text-align: right;\n",
       "    }\n",
       "</style>\n",
       "<table border=\"1\" class=\"dataframe\">\n",
       "  <thead>\n",
       "    <tr style=\"text-align: right;\">\n",
       "      <th></th>\n",
       "      <th>name</th>\n",
       "      <th>T</th>\n",
       "      <th>L</th>\n",
       "      <th>Z</th>\n",
       "      <th>group</th>\n",
       "    </tr>\n",
       "  </thead>\n",
       "  <tbody>\n",
       "    <tr>\n",
       "      <th>8</th>\n",
       "      <td>ボゴダ</td>\n",
       "      <td>13.4</td>\n",
       "      <td>4.42</td>\n",
       "      <td>2547</td>\n",
       "      <td>1</td>\n",
       "    </tr>\n",
       "    <tr>\n",
       "      <th>10</th>\n",
       "      <td>アジスアベベ</td>\n",
       "      <td>16.6</td>\n",
       "      <td>9.02</td>\n",
       "      <td>2354</td>\n",
       "      <td>1</td>\n",
       "    </tr>\n",
       "    <tr>\n",
       "      <th>12</th>\n",
       "      <td>メキシコ</td>\n",
       "      <td>16.7</td>\n",
       "      <td>19.24</td>\n",
       "      <td>2309</td>\n",
       "      <td>2</td>\n",
       "    </tr>\n",
       "  </tbody>\n",
       "</table>\n",
       "</div>"
      ],
      "text/plain": [
       "      name     T      L     Z  group\n",
       "8      ボゴダ  13.4   4.42  2547      1\n",
       "10  アジスアベベ  16.6   9.02  2354      1\n",
       "12    メキシコ  16.7  19.24  2309      2"
      ]
     },
     "execution_count": 5,
     "metadata": {},
     "output_type": "execute_result"
    }
   ],
   "source": [
    "# 標高2000m以上の都市を抽出\n",
    "D.loc[D['Z'] > 2000]"
   ]
  },
  {
   "attachments": {},
   "cell_type": "markdown",
   "metadata": {},
   "source": [
    "#### 平均気温と緯度の散布図\n",
    "- 同様に，年間平均気温 $ T $ と緯度 $ L $ の散布図を調べる．\n",
    "- 散布図より，年間平均気温と緯度には何らかの相関関係がありそうだが，平均気温は緯度に対して上に凸の2次関数のような関係となり，かつ赤道（0度）に対して左右対称になっている．\n",
    "- このように，散布図がそもそも直線関係となっていない場合には，相関係数を求めるのは不適切である．"
   ]
  },
  {
   "cell_type": "code",
   "execution_count": 6,
   "metadata": {},
   "outputs": [
    {
     "data": {
      "image/png": "[encoded data removed]",
      "text/plain": [
       "<Figure size 400x300 with 1 Axes>"
      ]
     },
     "metadata": {
      "filenames": {
       "image/png": "/Users/narizuka/work/document/lecture/rissho/info_process/2022/material/_build/jupyter_execute/chap_2/sec_2-4/sec_2-4_27_0.png"
      }
     },
     "output_type": "display_data"
    }
   ],
   "source": [
    "# 緯度と平均気温の散布図\n",
    "fig, ax = plt.subplots(figsize=(4, 3))\n",
    "ax.plot(D['L'], D['T'], 'bo', mfc='None')\n",
    "ax.set_xlim(-100, 100); ax.set_ylim(-15, 35)\n",
    "ax.set_xlabel('緯度 $L$（度）')\n",
    "ax.set_ylabel('平均気温 $T$（℃）')\n",
    "fig.savefig('./lat_temp.png', bbox_inches=\"tight\", pad_inches=0.2, transparent=False, dpi=300) # 保存"
   ]
  },
  {
   "attachments": {},
   "cell_type": "markdown",
   "metadata": {},
   "source": [
    "#### 平均気温と緯度の関数関係\n",
    "\n",
    "- 年間平均気温 $ T $ と緯度 $ L $の関数関係を特定すれば，散布図が直線関係を示すような適切な変数変換を導ける．\n",
    "- 年間平均気温と緯度の散布図から，平均気温は緯度に対して上に凸の２次関数となっている．\n",
    "- そこで，横軸に緯度の２乗 $L^2$，縦軸に年間平均気温 $ T $ を取った散布図を描けば，直線関係が得られそうである．"
   ]
  },
  {
   "attachments": {},
   "cell_type": "markdown",
   "metadata": {},
   "source": [
    "**実習**\n",
    "- 横軸に緯度の２乗 $ L^2 $，縦軸に年間平均気温 $ T $ を取った散布図を描け\n",
    "- この散布図に対して，最小二乗法で回帰直線を求めよ\n",
    "- この散布図に対して，相関係数を求めよ"
   ]
  },
  {
   "cell_type": "code",
   "execution_count": 15,
   "metadata": {},
   "outputs": [
    {
     "name": "stdout",
     "output_type": "stream",
     "text": [
      "[-6.108e-03  2.410e+01]\n"
     ]
    },
    {
     "data": {
      "image/png": "[encoded data removed]",
      "text/plain": [
       "<Figure size 400x300 with 1 Axes>"
      ]
     },
     "metadata": {
      "filenames": {
       "image/png": "/Users/narizuka/work/document/lecture/rissho/info_process/2022/material/_build/jupyter_execute/chap_2/sec_2-4/sec_2-4_30_1.png"
      }
     },
     "output_type": "display_data"
    }
   ],
   "source": [
    "''' 平均気温と緯度の２乗の散布図 '''\n",
    "def fit_func(x, a, b):\n",
    "    return a*x + b\n",
    "\n",
    "fig, ax = plt.subplots(figsize=(4, 3))\n",
    "\n",
    "# 最小二乗法による回帰直線\n",
    "p = optimize.curve_fit(fit_func, D['L']**2, D['T'])[0]\n",
    "print(p)\n",
    "ax.plot(D['L']**2, fit_func(D['L']**2, p[0], p[1]), 'r-')\n",
    "\n",
    "# 散布図\n",
    "ax.plot(D['L']**2, D['T'], 'ko', mfc='None')\n",
    "ax.set_xlim(0, 5000); ax.set_ylim(-15, 35)\n",
    "ax.set_xlabel('緯度の2乗 $L^2$')\n",
    "ax.set_ylabel('平均気温 $T$（℃）')\n",
    "fig.savefig('./lat2_temp.png', bbox_inches=\"tight\", pad_inches=0.2, transparent=False, dpi=300) # 保存"
   ]
  },
  {
   "cell_type": "code",
   "execution_count": 41,
   "metadata": {},
   "outputs": [
    {
     "data": {
      "text/plain": [
       "array([[ 1.   , -0.877],\n",
       "       [-0.877,  1.   ]])"
      ]
     },
     "execution_count": 41,
     "metadata": {},
     "output_type": "execute_result"
    }
   ],
   "source": [
    "# 緯度の2乗と平均気温の相関係数\n",
    "np.corrcoef(D['L']**2, D['T'])"
   ]
  },
  {
   "attachments": {},
   "cell_type": "markdown",
   "metadata": {},
   "source": [
    "### STEP5: Conclusion\n",
    "- 各都市の年間平均気温と緯度の関係を散布図によって調べた結果，緯度の２乗に対して直線関係があることが分かった．\n",
    "- これより，年間平均気温 $ T $ と緯度 $ L $ の関数関係は以下のように推定できる：\n",
    "  $$\n",
    "    T = -0.0061L^2 + 24.1\n",
    "  $$\n",
    "\n",
    "- 一方，年間平均気温が緯度の2次関数になるということは緯度が高くなるほど平均気温がいくらでも大きくなることを意味し，やや奇妙でもある．\n",
    "- また，直線関係から外れる都市がいくつか存在するのも気になる点である．"
   ]
  },
  {
   "attachments": {},
   "cell_type": "markdown",
   "metadata": {},
   "source": [
    "**発展的な実習1：より適切な関数**\n",
    "- 緯度 $ L $ における太陽エネルギーは $ \\cos L $ に比例することが知られている．そこで，横軸に $ \\cos(L) $， 縦軸に年間平均気温 $ T $ を取った散布図を作成せよ\n",
    "- 作成した散布図より，緯度 $ L $ と年間平均気温 $ T $ を結びつける，より適切な関数を求めよ\n",
    "- $ \\cos $ のテイラー展開の観点から，2次関数の妥当性を議論せよ"
   ]
  },
  {
   "cell_type": "code",
   "execution_count": 16,
   "metadata": {},
   "outputs": [
    {
     "name": "stdout",
     "output_type": "stream",
     "text": [
      "[ 44.315 -19.923]\n"
     ]
    },
    {
     "data": {
      "image/png": "[encoded data removed]",
      "text/plain": [
       "<Figure size 400x300 with 1 Axes>"
      ]
     },
     "metadata": {
      "filenames": {
       "image/png": "/Users/narizuka/work/document/lecture/rissho/info_process/2022/material/_build/jupyter_execute/chap_2/sec_2-4/sec_2-4_34_1.png"
      }
     },
     "output_type": "display_data"
    }
   ],
   "source": [
    "''' 平均気温とcos(緯度)の散布図 '''\n",
    "\n",
    "fig, ax = plt.subplots(figsize=(4, 3))\n",
    "\n",
    "# 最小二乗法による回帰直線\n",
    "p = optimize.curve_fit(fit_func, np.cos(np.radians(D['L'])), D['T'])[0]\n",
    "print(p)\n",
    "ax.plot(np.cos(np.radians(D['L'])), fit_func(np.cos(np.radians(D['L'])), p[0], p[1]), 'r-')\n",
    "\n",
    "# 散布図\n",
    "ax.plot(np.cos(np.radians(D['L'])), D['T'], 'ko', mfc='None')\n",
    "ax.set_xlim(0.3, 1); ax.set_ylim(-15, 35)\n",
    "ax.set_xlabel('$\\cos(L)$', fontsize=15)\n",
    "ax.set_ylabel('平均気温 $T$ （℃）')\n",
    "fig.savefig('./cos_lat_temp.png', bbox_inches=\"tight\", pad_inches=0.2, transparent=False, dpi=300) # 保存"
   ]
  },
  {
   "cell_type": "code",
   "execution_count": 17,
   "metadata": {},
   "outputs": [
    {
     "data": {
      "text/plain": [
       "array([[1.   , 0.874],\n",
       "       [0.874, 1.   ]])"
      ]
     },
     "execution_count": 17,
     "metadata": {},
     "output_type": "execute_result"
    }
   ],
   "source": [
    "# cos(緯度)と平均気温の相関係数\n",
    "np.corrcoef(np.cos(np.radians(D['L'])), D['T'])"
   ]
  },
  {
   "attachments": {},
   "cell_type": "markdown",
   "metadata": {},
   "source": [
    "**発展的な実習2：標高の調整**\n",
    "- 一般に，標高が100m高くなると，気温は0.6℃低くなると言われている．そこで，高度調整済平均気温（標高0mでの平均気温）を $ T_{0}=T+0.006Z  $ によって求めよ\n",
    "- $\\cos(L)$ と高度調整済み平均気温 $ T_{0} $ の散布図を描け\n",
    "- この散布図から相関係数を求めよ\n",
    "- この散布図に対して回帰直線を引き，直線の式を求めよ"
   ]
  },
  {
   "cell_type": "code",
   "execution_count": 18,
   "metadata": {},
   "outputs": [],
   "source": [
    "# 高度調整済み平均気温の計算\n",
    "D['T0'] = D['T'] + 0.006 * D['Z']"
   ]
  },
  {
   "cell_type": "code",
   "execution_count": 19,
   "metadata": {},
   "outputs": [
    {
     "name": "stdout",
     "output_type": "stream",
     "text": [
      "[ 51.693 -23.651]\n"
     ]
    },
    {
     "data": {
      "image/png": "[encoded data removed]",
      "text/plain": [
       "<Figure size 400x300 with 1 Axes>"
      ]
     },
     "metadata": {
      "filenames": {
       "image/png": "/Users/narizuka/work/document/lecture/rissho/info_process/2022/material/_build/jupyter_execute/chap_2/sec_2-4/sec_2-4_38_1.png"
      }
     },
     "output_type": "display_data"
    }
   ],
   "source": [
    "''' 高度調整済み平均気温とcos(緯度)の散布図 '''\n",
    "fig, ax = plt.subplots(figsize=(4, 3))\n",
    "\n",
    "# 最小二乗法による回帰直線\n",
    "p = optimize.curve_fit(fit_func, np.cos(np.radians(D['L'])), D['T0'])[0]\n",
    "print(p)\n",
    "ax.plot(np.cos(np.radians(D['L'])), fit_func(np.cos(np.radians(D['L'])), p[0], p[1]), 'r-')\n",
    "\n",
    "# 散布図\n",
    "ax.plot(np.cos(np.radians(D['L'])), D['T0'], 'ko', mfc='None')\n",
    "ax.set_xlim(0.3, 1); ax.set_ylim(-15, 35)\n",
    "ax.set_xlabel('$cos(L)$', fontsize=15)\n",
    "ax.set_ylabel('高度調整済み平均気温 $T_{0}$（℃）')\n",
    "fig.savefig('./cos_lat_temp2.png', bbox_inches=\"tight\", pad_inches=0.2, transparent=False, dpi=300) # 保存"
   ]
  },
  {
   "cell_type": "code",
   "execution_count": 20,
   "metadata": {},
   "outputs": [
    {
     "data": {
      "text/plain": [
       "array([[1.   , 0.944],\n",
       "       [0.944, 1.   ]])"
      ]
     },
     "execution_count": 20,
     "metadata": {},
     "output_type": "execute_result"
    }
   ],
   "source": [
    "# 相関係数\n",
    "np.corrcoef(np.cos(np.radians(D['L'])), D['T0'])"
   ]
  }
 ],
 "metadata": {
  "colab": {
   "name": "sec_2-2.ipynb",
   "provenance": []
  },
  "kernelspec": {
   "display_name": "Python 3.9.13 64-bit ('myenv')",
   "language": "python",
   "name": "python3"
  },
  "language_info": {
   "codemirror_mode": {
    "name": "ipython",
    "version": 3
   },
   "file_extension": ".py",
   "mimetype": "text/x-python",
   "name": "python",
   "nbconvert_exporter": "python",
   "pygments_lexer": "ipython3",
   "version": "3.9.13"
  },
  "toc-autonumbering": false,
  "vscode": {
   "interpreter": {
    "hash": "911fd4aa1eca4252368dc27db61226a38a6cfe922f9bbc90c7d50e9c97ede316"
   }
  }
 },
 "nbformat": 4,
 "nbformat_minor": 4
}