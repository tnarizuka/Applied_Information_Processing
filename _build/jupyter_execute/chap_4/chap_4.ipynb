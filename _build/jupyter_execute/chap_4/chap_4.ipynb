{
 "cells": [
  {
   "cell_type": "code",
   "execution_count": 31,
   "metadata": {},
   "outputs": [
    {
     "data": {
      "text/plain": [
       "'%.3f'"
      ]
     },
     "execution_count": 31,
     "metadata": {},
     "output_type": "execute_result"
    }
   ],
   "source": [
    "# モジュール・ライブラリのインポート（必ず最初に実行）\n",
    "import sys, os\n",
    "import numpy as np\n",
    "import matplotlib.pyplot as plt\n",
    "import pandas as pd\n",
    "\n",
    "# 日本語フォントの設定（Mac:'Hiragino Sans', Windows:'MS Gothic'）\n",
    "plt.rcParams['font.family'] = 'MS Gothic'\n",
    "\n",
    "# 表記の設定\n",
    "pd.set_option('display.precision', 3)   # 小数点以下の表示桁\n",
    "pd.set_option('display.max_rows', 20)  # 表示する行数\n",
    "pd.set_option('display.max_columns', 10)  # 表示する行数\n",
    "%precision 3"
   ]
  },
  {
   "cell_type": "code",
   "execution_count": 28,
   "metadata": {
    "executionInfo": {
     "elapsed": 1260,
     "status": "ok",
     "timestamp": 1635148279091,
     "user": {
      "displayName": "Takuma Narizuka",
      "photoUrl": "https://lh3.googleusercontent.com/a-/AOh14GikY77c5HAiZw_0rE6X-EeMqDO36i0lZAZwgUjINg=s64",
      "userId": "11234403743201202105"
     },
     "user_tz": -540
    },
    "id": "LYBjf4W9lZw0"
   },
   "outputs": [],
   "source": [
    "# アヤメデータをPandasに読み込む\n",
    "Iris = pd.read_csv('./Iris.csv')\n",
    "Iris = Iris.iloc[:, 1:5]\n",
    "Iris.columns=['Sepal Length', 'Sepal Width', 'Petal Length', 'Petal Width']"
   ]
  },
  {
   "cell_type": "markdown",
   "metadata": {},
   "source": [
    "# 特性値の活用"
   ]
  },
  {
   "cell_type": "markdown",
   "metadata": {},
   "source": [
    "量的データが与えられたとき，まず行うべきことはヒストグラムを描いてデータの分布（どの値がどの程度あるか）を把握することである．\n",
    "その上で，分布形状が単峰性であれば，データから計算した少数の指標によってデータを要約することができる．\n",
    "このように，データの特性を定量的に表すための指標を**特性値**（あるいは代表値，記述統計量，要約統計量）と呼ぶ．\n",
    "一般にデータの特性はデータの中心を表す特性値と中心からのばらつきを表す特性値によって要約される．\n",
    "\n",
    "※ データの分布形状が多峰性の場合に中心＋ばらつきのように少数の指標で要約すると，データの特性をうまく表すことができないので注意する．"
   ]
  },
  {
   "cell_type": "markdown",
   "metadata": {
    "id": "1EQiVyvJK9OJ"
   },
   "source": [
    "## データの中心を表す特性値"
   ]
  },
  {
   "cell_type": "markdown",
   "metadata": {
    "id": "LBjBw_dpK9OJ"
   },
   "source": [
    "### 算術平均"
   ]
  },
  {
   "cell_type": "markdown",
   "metadata": {},
   "source": [
    "データの中心を表す特性値として最もよく知られ，よく用いられるのが**算術平均**であり，\n",
    "\n",
    "$$\n",
    "\t\\bar{x} = \\frac{x_{1}+x_{2}+\\cdots+x_{n}}{n} = \\frac{1}{n} \\sum_{i=1}^{n}x_{i}\n",
    "$$(eq:arithmetic_mean)\n",
    "\n",
    "と定義される．\n",
    "算術平均は分布形状が左右対称に近いデータの場合にデータの中心を表す量として適切である．\n",
    "しかし，分布形状が極端に非対称な場合には，大きな値を持つ少数のデータが平均値を押し上げてしまうため，データの中心を表す特性値としてふさわしくない．"
   ]
  },
  {
   "cell_type": "markdown",
   "metadata": {},
   "source": [
    "**Pythonによる実装**\n",
    "\n",
    "まずは[Iris Dataset](https://drive.google.com/uc?export=download&id=1dmRM6SiafHEkCH_c7G0KHmt_IISqKrWN)を読み込んでおく．\n",
    "このデータに対し，式{eq}`eq:arithmetic_mean`を当てはめれば算術平均を計算することができる．\n",
    "例えば，アヤメのがく片の幅（Sepal Width）のデータの場合，平均値は $ \\bar{x}=3.054 $ cm，アヤメの花弁の幅（Petal Width）のデータの場合，平均値は $ \\bar{x}=1.199 $ cmとなる．"
   ]
  },
  {
   "cell_type": "code",
   "execution_count": 16,
   "metadata": {
    "colab": {
     "base_uri": "https://localhost:8080/"
    },
    "executionInfo": {
     "elapsed": 252,
     "status": "ok",
     "timestamp": 1634540222980,
     "user": {
      "displayName": "Takuma Narizuka",
      "photoUrl": "https://lh3.googleusercontent.com/a-/AOh14GikY77c5HAiZw_0rE6X-EeMqDO36i0lZAZwgUjINg=s64",
      "userId": "11234403743201202105"
     },
     "user_tz": -540
    },
    "id": "TGZ2-cs7K9OK",
    "outputId": "5e343793-46af-437e-dbe8-4f000d226a26"
   },
   "outputs": [
    {
     "name": "stdout",
     "output_type": "stream",
     "text": [
      "がく片の幅の平均 3.0540000000000003\n",
      "花弁の幅の平均 1.1986666666666668\n"
     ]
    }
   ],
   "source": [
    "# アヤメのがく片の長さの平均（Pandasのmeanメソッドを用いる）\n",
    "print('がく片の幅の平均', Iris['Sepal Width'].mean())\n",
    "print('花弁の幅の平均', Iris['Petal Width'].mean())"
   ]
  },
  {
   "cell_type": "markdown",
   "metadata": {},
   "source": [
    "以下はがく片の幅（Sepal Width）と花弁の幅（Petal Width）の平均値をヒストグラム上に示した図である．\n",
    "がく片の幅についてはヒストグラムが単峰性で左右対称となるため，平均値がデータの中心にほぼ一致していることが分かる．\n",
    "一方，花弁の幅についてはヒストグラムが双峰性となるため，平均値だけを見るとデータの特性を見誤る恐れがある．\n",
    "このような場合を想定し，データが与えられたらまずはヒストグラムを確認することが重要である．\n"
   ]
  },
  {
   "cell_type": "code",
   "execution_count": 17,
   "metadata": {},
   "outputs": [
    {
     "data": {
      "image/png": "[encoded data removed]",
      "text/plain": [
       "<Figure size 350x300 with 1 Axes>"
      ]
     },
     "metadata": {
      "filenames": {
       "image/png": "/Users/narizuka/work/document/lecture/rissho/info_process/book/_build/jupyter_execute/chap_4/chap_4_10_0.png"
      }
     },
     "output_type": "display_data"
    },
    {
     "data": {
      "image/png": "[encoded data removed]",
      "text/plain": [
       "<Figure size 350x300 with 1 Axes>"
      ]
     },
     "metadata": {
      "filenames": {
       "image/png": "/Users/narizuka/work/document/lecture/rissho/info_process/book/_build/jupyter_execute/chap_4/chap_4_10_1.png"
      }
     },
     "output_type": "display_data"
    }
   ],
   "source": [
    "# ビンの個数（スタージェスの公式）\n",
    "bn = int(1+np.log2(len(Iris)))\n",
    "\n",
    "# ヒストグラムの描画と保存\n",
    "for i in ['Sepal Width', 'Petal Width']:\n",
    "    fig, ax = plt.subplots(figsize=(3.5, 3), dpi=100)\n",
    "\n",
    "    # 平均値の位置\n",
    "    ave = Iris[i].mean()\n",
    "    ax.plot([ave, ave], [0, 100], 'r-')\n",
    "    \n",
    "    x = ax.hist(Iris[i], # データ\n",
    "                bins=int(bn), # 階級数\n",
    "                histtype='bar',  # ヒストグラムの種類\n",
    "                color='c', ec='k', alpha=0.5  # 縦棒の色，透明度\n",
    "               )[1]\n",
    "    x2 = np.round(0.5*(x[1:]+x[:-1]), 2)  # 横軸に表示する階級値（中央値）\n",
    "    \n",
    "    ax.set_title(i)  # グラフのタイトル\n",
    "    ax.set_xticks(x2) # 横軸の目盛り\n",
    "    ax.set_xticklabels(x2, fontsize=8) # 横軸の目盛り\n",
    "    ax.set_xlabel(i+' [cm]')  # 横軸のラベル\n",
    "    ax.set_ylabel('Frequency') # 縦軸のラベル\n",
    "    ax.set_ylim(0, 45)"
   ]
  },
  {
   "cell_type": "markdown",
   "metadata": {
    "id": "3Rla-M13K9OK"
   },
   "source": [
    "### 幾何平均"
   ]
  },
  {
   "cell_type": "markdown",
   "metadata": {},
   "source": [
    "算術平均は平均の計算方法として最も一般的であるが，それ以外の方法もある．\n",
    "それが**幾何平均**である．\n",
    "幾何平均は，$ n $個のデータに対して，全ての値の積の$ n $乗根をとったもので，\n",
    "\n",
    "$$\n",
    "\t\\bar{x}_{g} = \\sqrt[n]{x_{1}\\times\\cdots \\times x_{n}} = \\sqrt[n]{\\prod_{i=1}^{n}x_{i}} = \\left(\\prod_{i=1}^{n}x_{i}\\right)^{1/n}\n",
    "$$(eq:geometric_mean)\n",
    "\n",
    "と定義される．\n",
    "ルートを取っているので，幾何平均は正の数のみしか扱えず，さらに掛け算によって定義されるので比率データにしか適用できない．"
   ]
  },
  {
   "cell_type": "markdown",
   "metadata": {},
   "source": [
    "幾何平均は成長率や倍率の平均を計算するときに用いられる．\n",
    "例えば，次のような事例を考える：\n",
    "\n",
    "> 1年目から2年目にかけての物価は対前年比2倍になり（100円のものが200円になり），2年目から3年目にかけての物価は対前年比8倍となった（200円のものが1600円になった）．\n",
    ">では，この2年間の物価の対前年比伸び率の平均はいくらか？\n",
    "\n",
    "まず，算術平均を適用してみる．\n",
    "すると，物価の対前年比伸び率の平均は$ (2+8)/2=5 $倍となる．\n",
    "これは，1年目に100円だったものが2年目に500円になり，さらに3年目に2500円になることを意味するので，実際よりも過大に見積もってしまう．\n",
    "そこで，次に幾何平均を適用してみる．\n",
    "すると，物価の対前年比伸び率の平均は$ \\sqrt[2]{2\\times 8}=4 $倍となる．\n",
    "これは，1年目に100円だったものが2年目に400円になり，さらに3年目に1600円になることを意味するので，実際の金額と一致する．\n",
    "このように，倍率の平均値を計算する場合には，算術平均ではなく幾何平均を用いるのが妥当である．"
   ]
  },
  {
   "cell_type": "markdown",
   "metadata": {},
   "source": [
    "**Pythonによる実装**"
   ]
  },
  {
   "cell_type": "markdown",
   "metadata": {},
   "source": [
    "幾何平均の定義をそのまま適用すると，全データの積を計算する必要がありその結果が巨大な数となる可能性がある．\n",
    "この場合，オーバーフローを起こすことがあるので，以下のように対数を取ってから算術平均を計算し，最後に元に戻すとうまくいく．"
   ]
  },
  {
   "cell_type": "code",
   "execution_count": 18,
   "metadata": {
    "colab": {
     "base_uri": "https://localhost:8080/"
    },
    "executionInfo": {
     "elapsed": 552,
     "status": "ok",
     "timestamp": 1634540280138,
     "user": {
      "displayName": "Takuma Narizuka",
      "photoUrl": "https://lh3.googleusercontent.com/a-/AOh14GikY77c5HAiZw_0rE6X-EeMqDO36i0lZAZwgUjINg=s64",
      "userId": "11234403743201202105"
     },
     "user_tz": -540
    },
    "id": "Fvhy76klK9OL",
    "outputId": "f67b0f9d-b908-4740-fb36-d026c26f3d8d"
   },
   "outputs": [
    {
     "data": {
      "text/plain": [
       "5.786"
      ]
     },
     "execution_count": 18,
     "metadata": {},
     "output_type": "execute_result"
    }
   ],
   "source": [
    "x = np.log(Iris['Sepal Length'])\n",
    "np.exp(np.sum(x)/len(x))"
   ]
  },
  {
   "cell_type": "markdown",
   "metadata": {},
   "source": [
    "以下のように`scipy`を使う方法もある．"
   ]
  },
  {
   "cell_type": "code",
   "execution_count": 19,
   "metadata": {},
   "outputs": [
    {
     "data": {
      "text/plain": [
       "5.786"
      ]
     },
     "execution_count": 19,
     "metadata": {},
     "output_type": "execute_result"
    }
   ],
   "source": [
    "from scipy.stats.mstats import gmean\n",
    "gmean(Iris['Sepal Length'])"
   ]
  },
  {
   "cell_type": "markdown",
   "metadata": {
    "id": "AZMg7Gj3K9OL"
   },
   "source": [
    "### 中央値"
   ]
  },
  {
   "cell_type": "markdown",
   "metadata": {},
   "source": [
    "データの分布形状が単峰性であっても左右非対称である場合，算術平均はデータの中心を表す特性値としてふさわしくない．\n",
    "例えば，\n",
    "\n",
    "$$\n",
    "\t1,1,1,1,2,3,4,5,16,20 \n",
    "$$\n",
    "\n",
    "のようなデータがあったとき，この算術平均は5.4になるが，平均より小さいものが8個を占め，残りの2個が平均より大きい．\n",
    "これは，少数のデータ（16と20）が平均を押し上げている例である．\n",
    "このような場合，データの中心という意味では既に述べた**中央値**（メディアン）を用いる方が適切である．\n",
    "実際，中央値を用いれば，その値より小さい数と大きい数の個数が等しくなる．"
   ]
  },
  {
   "cell_type": "markdown",
   "metadata": {},
   "source": [
    "**Pythonによる実装**"
   ]
  },
  {
   "cell_type": "code",
   "execution_count": 20,
   "metadata": {
    "colab": {
     "base_uri": "https://localhost:8080/"
    },
    "executionInfo": {
     "elapsed": 246,
     "status": "ok",
     "timestamp": 1634540287467,
     "user": {
      "displayName": "Takuma Narizuka",
      "photoUrl": "https://lh3.googleusercontent.com/a-/AOh14GikY77c5HAiZw_0rE6X-EeMqDO36i0lZAZwgUjINg=s64",
      "userId": "11234403743201202105"
     },
     "user_tz": -540
    },
    "id": "kvi2AFn_K9OL",
    "outputId": "036913a8-2956-4b06-cc70-426bcd47e7f7"
   },
   "outputs": [
    {
     "data": {
      "text/plain": [
       "5.800"
      ]
     },
     "execution_count": 20,
     "metadata": {},
     "output_type": "execute_result"
    }
   ],
   "source": [
    "# 最頻値の計算（Pandasのmedianメソッドを用いる）\n",
    "Iris['Sepal Length'].median()"
   ]
  },
  {
   "cell_type": "markdown",
   "metadata": {
    "id": "298I9S-7K9OL"
   },
   "source": [
    "### 最頻値"
   ]
  },
  {
   "cell_type": "markdown",
   "metadata": {},
   "source": [
    "平均値，中央値の他によく用いられる特性値として，**最頻値**（モード）がある．\n",
    "これは，データの中で最も頻出する数であり，度数分布において度数が最大となる階級の階級値に対応する．\n",
    "分布形状が単峰性で左右非対称な場合には，データの中心を表す特性値としてよく用いられる．\n",
    "ただし，分布形状が双峰性の場合には有効な特性値とならないので注意が必要である．"
   ]
  },
  {
   "cell_type": "markdown",
   "metadata": {},
   "source": [
    "**Pythonによる実装**"
   ]
  },
  {
   "cell_type": "code",
   "execution_count": 21,
   "metadata": {
    "colab": {
     "base_uri": "https://localhost:8080/"
    },
    "executionInfo": {
     "elapsed": 283,
     "status": "ok",
     "timestamp": 1634540296850,
     "user": {
      "displayName": "Takuma Narizuka",
      "photoUrl": "https://lh3.googleusercontent.com/a-/AOh14GikY77c5HAiZw_0rE6X-EeMqDO36i0lZAZwgUjINg=s64",
      "userId": "11234403743201202105"
     },
     "user_tz": -540
    },
    "id": "ATLx3-YtK9OL",
    "outputId": "cabcd6aa-38c3-4015-fa1f-85d94ba427d4"
   },
   "outputs": [
    {
     "data": {
      "text/plain": [
       "0    5.0\n",
       "Name: Sepal Length, dtype: float64"
      ]
     },
     "execution_count": 21,
     "metadata": {},
     "output_type": "execute_result"
    }
   ],
   "source": [
    "# 最頻値の計算（Pandasのmodeメソッドを用いる）\n",
    "Iris['Sepal Length'].mode()"
   ]
  },
  {
   "cell_type": "markdown",
   "metadata": {
    "id": "6fXP7POZK9OL"
   },
   "source": [
    "## データのばらつきを表す特性値"
   ]
  },
  {
   "cell_type": "markdown",
   "metadata": {},
   "source": [
    "データの特性を知りたい場合，中心を表す特性値だけでは情報不足であり，中心からどの程度ばらついているかも考慮しなければならない．\n",
    "例えば，以下の3つのデータは中心を表す算術平均，中央値，最頻値がすべて5であるが，分布の形状は異なる．"
   ]
  },
  {
   "cell_type": "code",
   "execution_count": 22,
   "metadata": {},
   "outputs": [],
   "source": [
    "# 3つのデータを作成\n",
    "x_A = np.array([0,3,3,5,5,5,5,7,7,10])\n",
    "x_B = np.array([0,1,2,3,5,5,7,8,9,10])\n",
    "x_C = np.array([3,4,4,5,5,5,5,6,6,7])"
   ]
  },
  {
   "cell_type": "code",
   "execution_count": 23,
   "metadata": {},
   "outputs": [
    {
     "name": "stdout",
     "output_type": "stream",
     "text": [
      "5.0 5.0 5\n",
      "5.0 5.0 5\n",
      "5.0 5.0 5\n"
     ]
    }
   ],
   "source": [
    "# 各データの平均値，中央値，最頻値を求める\n",
    "import statistics as stats\n",
    "print(np.mean(x_A), np.median(x_A), stats.mode(x_A))\n",
    "print(np.mean(x_B), np.median(x_B), stats.mode(x_B))\n",
    "print(np.mean(x_C), np.median(x_C), stats.mode(x_C))"
   ]
  },
  {
   "cell_type": "code",
   "execution_count": 24,
   "metadata": {},
   "outputs": [
    {
     "data": {
      "image/png": "[encoded data removed]",
      "text/plain": [
       "<Figure size 300x250 with 1 Axes>"
      ]
     },
     "metadata": {
      "filenames": {
       "image/png": "/Users/narizuka/work/document/lecture/rissho/info_process/book/_build/jupyter_execute/chap_4/chap_4_31_0.png"
      }
     },
     "output_type": "display_data"
    },
    {
     "data": {
      "image/png": "[encoded data removed]",
      "text/plain": [
       "<Figure size 300x250 with 1 Axes>"
      ]
     },
     "metadata": {
      "filenames": {
       "image/png": "/Users/narizuka/work/document/lecture/rissho/info_process/book/_build/jupyter_execute/chap_4/chap_4_31_1.png"
      }
     },
     "output_type": "display_data"
    },
    {
     "data": {
      "image/png": "[encoded data removed]",
      "text/plain": [
       "<Figure size 300x250 with 1 Axes>"
      ]
     },
     "metadata": {
      "filenames": {
       "image/png": "/Users/narizuka/work/document/lecture/rissho/info_process/book/_build/jupyter_execute/chap_4/chap_4_31_2.png"
      }
     },
     "output_type": "display_data"
    }
   ],
   "source": [
    "# 各データのヒストグラムを描く\n",
    "for x in [x_A, x_B, x_C]:\n",
    "    fig, ax = plt.subplots(figsize=(3, 2.5))\n",
    "    ax.plot([5, 5], [0, 100], 'r-')\n",
    "    ax.hist(x, bins=np.arange(len(x_A))-0.5, color='k', ec='k', alpha=0.4)\n",
    "    ax.set_xticks(np.arange(0, 10, 1))\n",
    "    ax.set_xlim(-1, 11); ax.set_ylim(0, 4.5);\n",
    "    ax.set(xlabel='values', ylabel='Frequency')"
   ]
  },
  {
   "cell_type": "markdown",
   "metadata": {},
   "source": [
    "通常，ばらつきを求める際には，算術平均と各データとの差$ x_{i} - \\bar{x} $を考える．\n",
    "これを**偏差**と呼ぶ．\n",
    "この偏差を全データに対して平均すれば，ばらつきを表す特性値になりそうであるが，これだと問題が生じる．\n",
    "例えば，データが左右対称に分布している場合，平均より小さい値のデータ（偏差が負）と大きい値のデータ（偏差が正）が同程度あるため，偏差を平均するとほぼ0になってしまう．\n",
    "ばらつきが0というのは明らかにおかしいため，別の特性値を考える必要がある．\n",
    "以下に代表的な方法を説明する．"
   ]
  },
  {
   "cell_type": "markdown",
   "metadata": {
    "id": "6B-6M6xaK9OM"
   },
   "source": [
    "### 平均偏差"
   ]
  },
  {
   "cell_type": "markdown",
   "metadata": {},
   "source": [
    "１つ目の方法は偏差の絶対値を取ってから平均するという方法であり，**平均偏差**と呼ばれる：\n",
    "\n",
    "$$\n",
    "\t平均偏差 = \\frac{1}{n} \\sum_{i=1}^{n}|x_{i}-\\bar{x}| \n",
    "$$(eq:mean_deviation)\n",
    "\n",
    "これは，$ n $個のデータの偏差の絶対値を平均した値であり，ばらつきの指標として直感的に理解しやすい．\n",
    "しかし，絶対値の扱いが数学的に面倒であるため（例えば微分が面倒），利用されることは少ない．"
   ]
  },
  {
   "cell_type": "markdown",
   "metadata": {},
   "source": [
    "**Pythonによる実装**"
   ]
  },
  {
   "cell_type": "code",
   "execution_count": 25,
   "metadata": {
    "colab": {
     "base_uri": "https://localhost:8080/"
    },
    "executionInfo": {
     "elapsed": 340,
     "status": "ok",
     "timestamp": 1634540308808,
     "user": {
      "displayName": "Takuma Narizuka",
      "photoUrl": "https://lh3.googleusercontent.com/a-/AOh14GikY77c5HAiZw_0rE6X-EeMqDO36i0lZAZwgUjINg=s64",
      "userId": "11234403743201202105"
     },
     "user_tz": -540
    },
    "id": "SskiEKpzK9OM",
    "outputId": "ca75f62e-461b-48b5-e00d-6587a619c8f4"
   },
   "outputs": [
    {
     "name": "stdout",
     "output_type": "stream",
     "text": [
      "1.8\n",
      "2.8\n",
      "0.8\n"
     ]
    }
   ],
   "source": [
    "print(np.fabs(x_A - x_A.mean()).mean())\n",
    "print(np.fabs(x_B - x_B.mean()).mean())\n",
    "print(np.fabs(x_C - x_C.mean()).mean())"
   ]
  },
  {
   "cell_type": "markdown",
   "metadata": {
    "id": "AAVDYVyeK9OM"
   },
   "source": [
    "### 分散・標準偏差"
   ]
  },
  {
   "cell_type": "markdown",
   "metadata": {},
   "source": [
    "２つ目の方法は，偏差を２乗してから平均するという方法であり，**分散**と呼ばれる：\n",
    "\n",
    "$$\n",
    "\ts^{2} = \\frac{1}{n} \\sum_{i=1}^{n} (x_{i} - \\bar{x})^{2}\n",
    "$$(eq:deviation)\n",
    "\n",
    "また，分散の平方根$ s $は**標準偏差**と呼ばれる：\n",
    "\n",
    "$$\n",
    "\ts = \\sqrt{\\frac{1}{n} \\sum_{i=1}^{n} (x_{i} - \\bar{x})^{2}}\n",
    "$$(eq:standard_deviation)\n",
    "\n",
    "標準偏差はデータの測定単位と同一の単位となるので，データのばらつきを表す場合は分散よりも直感的に理解しやすい．\n",
    "また，平均偏差のように絶対値を取る場合などに比べて数学的に扱いやすい（例えば微分がしやすい）という特徴がある．\n",
    "ただし，分散・標準偏差は平均値から大きく離れたデータほど寄与が大きくなるため，外れ値の影響を大きく受けるという問題もある．\n",
    "\n",
    "通常，データのばらつきを表す特性値としては分散または標準偏差が最もよく用いられる．\n",
    "特に，データの分布が単峰性で左右対称な場合，データの中心（算術平均）と中心からのばらつきを\n",
    "\n",
    "$$\n",
    "\t\\bar{x} \\pm s\n",
    "$$\n",
    "\n",
    "のように表す．"
   ]
  },
  {
   "attachments": {},
   "cell_type": "markdown",
   "metadata": {},
   "source": [
    "**分散公式**\n",
    "\n",
    "分散について，以下の公式が知られている：\n",
    "\n",
    "$$\n",
    "    s^{2} = \\frac{1}{n} \\sum_{i=1}^{n} x_{i}^{2} - \\bar{x}^{2} = \\overline{x^{2}} - \\bar{x}^2\n",
    "$$(eq:deviation2)\n",
    "\n",
    "分散（または標準偏差）を求める際には，定義式{eq}`eq:deviation`を用いるよりもこの公式を用いた方が計算が楽である．\n",
    "\n",
    "```{admonition} 証明\n",
    ":class: dropdown\n",
    "以下のように分散の定義式{eq}`eq:deviation`を変形することで直ちに得られる：\n",
    "\n",
    "\\begin{align*}\n",
    "    s^{2} \n",
    "    &= \\frac{1}{n} \\sum_{i=1}^{n} (x_{i}^{2} - 2x_{i}\\bar{x} + \\bar{x}^{2})\\\\\n",
    "    &= \\frac{1}{n} \\sum_{i=1}^{n} x_{i}^{2} - \\frac{1}{n} \\sum_{i=1}^{n} 2x_{i}\\bar{x} + \\frac{1}{n} \\sum_{i=1}^{n} \\bar{x}^{2} \\\\\n",
    "    &= \\frac{1}{n} \\sum_{i=1}^{n} x_{i}^{2} - 2\\bar{x} \\frac{1}{n} \\sum_{i=1}^{n}x_{i} + \\frac{1}{n}\\bar{x}^{2} \\sum_{i=1}^{n} 1\\\\\n",
    "    &= \\frac{1}{n} \\sum_{i=1}^{n} x_{i}^{2} - 2\\bar{x}\\bar{x}  + \\frac{1}{n}\\bar{x}^{2} n\\\\\n",
    "    &= \\frac{1}{n} \\sum_{i=1}^{n} x_{i}^{2} - 2\\bar{x}^{2}  + \\bar{x}^{2}\\\\\n",
    "    &= \\frac{1}{n} \\sum_{i=1}^{n} x_{i}^{2} - \\bar{x}^{2}\n",
    "\\end{align*}\n",
    "\n",
    "```"
   ]
  },
  {
   "cell_type": "markdown",
   "metadata": {},
   "source": [
    "**Pythonによる実装**"
   ]
  },
  {
   "cell_type": "code",
   "execution_count": 26,
   "metadata": {
    "colab": {
     "base_uri": "https://localhost:8080/"
    },
    "executionInfo": {
     "elapsed": 11,
     "status": "ok",
     "timestamp": 1634540333055,
     "user": {
      "displayName": "Takuma Narizuka",
      "photoUrl": "https://lh3.googleusercontent.com/a-/AOh14GikY77c5HAiZw_0rE6X-EeMqDO36i0lZAZwgUjINg=s64",
      "userId": "11234403743201202105"
     },
     "user_tz": -540
    },
    "id": "GGZmQ4AiK9OM",
    "outputId": "2a8a42cb-8cb4-4778-9ae9-eb8f9d26fd49"
   },
   "outputs": [
    {
     "name": "stdout",
     "output_type": "stream",
     "text": [
      "6.6\n",
      "10.8\n",
      "1.2\n"
     ]
    }
   ],
   "source": [
    "# 分散（numpyのvar関数を用いる）\n",
    "print(np.var(x_A))\n",
    "print(np.var(x_B))\n",
    "print(np.var(x_C))"
   ]
  },
  {
   "cell_type": "code",
   "execution_count": 27,
   "metadata": {},
   "outputs": [
    {
     "data": {
      "text/plain": [
       "0.686"
      ]
     },
     "execution_count": 27,
     "metadata": {},
     "output_type": "execute_result"
    }
   ],
   "source": [
    "# 分散（Pandasを用いる）\n",
    "Iris['Sepal Length'].var()"
   ]
  },
  {
   "cell_type": "code",
   "execution_count": 9,
   "metadata": {
    "colab": {
     "base_uri": "https://localhost:8080/"
    },
    "executionInfo": {
     "elapsed": 334,
     "status": "ok",
     "timestamp": 1634540348239,
     "user": {
      "displayName": "Takuma Narizuka",
      "photoUrl": "https://lh3.googleusercontent.com/a-/AOh14GikY77c5HAiZw_0rE6X-EeMqDO36i0lZAZwgUjINg=s64",
      "userId": "11234403743201202105"
     },
     "user_tz": -540
    },
    "id": "f8PgKuQNK9OM",
    "outputId": "6c0541b6-3d6d-43c7-f905-6371c9aeca2d"
   },
   "outputs": [
    {
     "name": "stdout",
     "output_type": "stream",
     "text": [
      "2.569046515733026\n",
      "3.286335345030997\n",
      "1.0954451150103321\n"
     ]
    }
   ],
   "source": [
    "# 標準偏差（numpyのstd関数を用いる）\n",
    "print(np.std(x_A))\n",
    "print(np.std(x_B))\n",
    "print(np.std(x_C))"
   ]
  },
  {
   "cell_type": "code",
   "execution_count": 28,
   "metadata": {},
   "outputs": [
    {
     "data": {
      "text/plain": [
       "0.828"
      ]
     },
     "execution_count": 28,
     "metadata": {},
     "output_type": "execute_result"
    }
   ],
   "source": [
    "# 標準偏差（Pandasを用いる）\n",
    "Iris['Sepal Length'].std()"
   ]
  },
  {
   "cell_type": "markdown",
   "metadata": {
    "id": "NpkzEub_K9OM"
   },
   "source": [
    "### 変動係数"
   ]
  },
  {
   "cell_type": "markdown",
   "metadata": {},
   "source": [
    "ある集団の身長のデータをcm単位で測定したところ，平均値が約170cm，標準偏差が約6cmであったとする．\n",
    "このデータに対し，身長の単位をmで表すと，平均値は1.7m，標準偏差は0.06mとなる．\n",
    "このように，標準偏差は測定単位によって値が変化してしまう．\n",
    "また，標準偏差はデータの水準の変化（おおまかには平均値の大きさ）によっても大きさが変化する．\n",
    "例えば，990点満点の英語の某テストの場合，ある回の平均点は575点，標準偏差は167点となり，人間の身長の場合よりも大きくなる．\n",
    "これは，テストの点数のばらつき（標準偏差）が大きいというだけでなく，そもそもデータの水準（平均値）が身長の場合より大きいことが原因である．\n",
    "\n",
    "以上のように単位やデータの水準が異なる場合でも，データの分布形状がよく似ていれば平均値からのばらつきの程度を同じ指標で比較することが可能である．\n",
    "このためには，以下で定義される**変動係数**（Coefficient of Variation）を用いる：\n",
    "\n",
    "$$\n",
    "\t\\mathrm{CV} = \\frac{s}{\\bar{x}}\n",
    "$$(eq:cv)\n",
    "\n",
    "変動係数はデータの標準偏差を平均値で割った量である．\n",
    "同じ単位を持つ量同士で割り算をしているので，無次元（単位がない）となり，データの測定単位に依らない．\n",
    "また，データの水準を表す平均値で割っているので，データの水準にも依らない．\n",
    "よって，通常，単位や平均値が異なるグループ間でばらつきを比較する際には変動係数がよく用いられる．\n",
    "\n",
    "実際に，身長とテストの点数の場合に変動係数を求めると以下のようになる：\n",
    "\n",
    "\\begin{align*}\n",
    "\t身長：CV &= 6/170 = 0.035 \\\\\n",
    "\t英語のテスト：CV &= 167/575 = 0.29 \n",
    "\\end{align*}\n",
    "\n",
    "この場合，身長の変動係数よりも英語のテストの変動係数の方が10倍近く大きくなっている．\n",
    "すなわち，身長のデータのばらつきよりも英語のテストのばらつきの方が大きいことが分かる．"
   ]
  },
  {
   "cell_type": "markdown",
   "metadata": {},
   "source": [
    "**Pythonによる実装**"
   ]
  },
  {
   "cell_type": "code",
   "execution_count": 12,
   "metadata": {
    "colab": {
     "base_uri": "https://localhost:8080/"
    },
    "executionInfo": {
     "elapsed": 289,
     "status": "ok",
     "timestamp": 1634540372255,
     "user": {
      "displayName": "Takuma Narizuka",
      "photoUrl": "https://lh3.googleusercontent.com/a-/AOh14GikY77c5HAiZw_0rE6X-EeMqDO36i0lZAZwgUjINg=s64",
      "userId": "11234403743201202105"
     },
     "user_tz": -540
    },
    "id": "14MVBEGeK9ON",
    "outputId": "d5f06471-6797-4602-f0ed-33d30540c8c6"
   },
   "outputs": [
    {
     "name": "stdout",
     "output_type": "stream",
     "text": [
      "0.5138093031466051\n",
      "0.6572670690061994\n",
      "0.21908902300206642\n"
     ]
    }
   ],
   "source": [
    "print(np.std(x_A)/np.mean(x_A))\n",
    "print(np.std(x_B)/np.mean(x_B))\n",
    "print(np.std(x_C)/np.mean(x_C))"
   ]
  },
  {
   "cell_type": "markdown",
   "metadata": {},
   "source": [
    "### 四分位範囲\n",
    "\n",
    "前節の五数要約の所で説明した**四分位範囲**もデータのばらつきを表す特性値である．\n",
    "四分位範囲はデータの第３四分位数$Q_{3}$と第1四分位数$Q_{1}$の差\n",
    "\n",
    "$$\n",
    "Q_{3}-Q_{1}\n",
    "$$\n",
    "\n",
    "として定義される．\n",
    "定義より，データの中心から極端に外れた値（外れ値）は除外されるため，外れ値の影響を受けにくいという利点がある．\n",
    "しかし，数学的には扱いにくい．"
   ]
  },
  {
   "cell_type": "markdown",
   "metadata": {},
   "source": [
    "**Pythonによる実装**"
   ]
  },
  {
   "cell_type": "code",
   "execution_count": 21,
   "metadata": {},
   "outputs": [
    {
     "data": {
      "text/plain": [
       "1.300"
      ]
     },
     "execution_count": 21,
     "metadata": {},
     "output_type": "execute_result"
    }
   ],
   "source": [
    "# 最小値，第1四分位数，中央値，第3四分位数，最大値\n",
    "Q = np.percentile(Iris['Sepal Length'], q=[0, 25, 50, 75, 100])\n",
    "\n",
    "# 四分位範囲\n",
    "Q[3] - Q[1]"
   ]
  },
  {
   "cell_type": "markdown",
   "metadata": {
    "id": "grIsE1TKK9ON"
   },
   "source": [
    "## ローレンツ曲線とジニ係数"
   ]
  },
  {
   "cell_type": "markdown",
   "metadata": {},
   "source": [
    "### ローレンツ曲線"
   ]
  },
  {
   "cell_type": "markdown",
   "metadata": {},
   "source": [
    "ある集団を構成するメンバー（人物でも市町村でも何でも良い）に対し，ある量（所得や人口など）が対応したデータを考える．\n",
    "以下では，具体例として，各人物に対して所得が対応したデータを考える．\n",
    "\n",
    "まず，各人物を所得の小さい順に並べて$ n $個の階級に等分する．\n",
    "その上で，下から$ i $番目の階級の度数（人数）を$ x_{i} $，累積相対度数を$ X_{i} $とする．\n",
    "ここで，累積相対度数$ X_{i} $とは，下から$ i $までの階級に属する人物が全体に占める比率である．\n",
    "同様にして，階級$ i $の平均所得を$ y_{i} $，平均所得の累積相対度数（累積比率）を$ Y_{i} $とする．\n",
    "この場合，$ Y_{i} $は下から$ i $までの階級の平均所得が全体に占める比率となる．\n",
    "\n",
    "例えば，100人の集団を4つの階級（$n=4$）に等分した場合は以下のようになる（所得は適当に設定している）．"
   ]
  },
  {
   "cell_type": "code",
   "execution_count": 25,
   "metadata": {
    "id": "D3eZ1c0JK9OO"
   },
   "outputs": [],
   "source": [
    "x = np.array([25, 25, 25, 25])\n",
    "X = np.cumsum(x) / np.sum(x)\n",
    "y = np.array([150, 250, 400, 800])\n",
    "Y = np.cumsum(y) / np.sum(y)"
   ]
  },
  {
   "cell_type": "code",
   "execution_count": 26,
   "metadata": {
    "id": "8m9CtDBbK9OO",
    "outputId": "278782ee-d39d-409f-d73c-08e5e78af684"
   },
   "outputs": [
    {
     "data": {
      "text/html": [
       "<div>\n",
       "<style scoped>\n",
       "    .dataframe tbody tr th:only-of-type {\n",
       "        vertical-align: middle;\n",
       "    }\n",
       "\n",
       "    .dataframe tbody tr th {\n",
       "        vertical-align: top;\n",
       "    }\n",
       "\n",
       "    .dataframe thead th {\n",
       "        text-align: right;\n",
       "    }\n",
       "</style>\n",
       "<table border=\"1\" class=\"dataframe\">\n",
       "  <thead>\n",
       "    <tr style=\"text-align: right;\">\n",
       "      <th></th>\n",
       "      <th>度数x</th>\n",
       "      <th>累積相対度数X</th>\n",
       "      <th>平均所得y</th>\n",
       "      <th>平均所得の累積相対度数Y</th>\n",
       "    </tr>\n",
       "  </thead>\n",
       "  <tbody>\n",
       "    <tr>\n",
       "      <th>1</th>\n",
       "      <td>25.0</td>\n",
       "      <td>0.25</td>\n",
       "      <td>150.0</td>\n",
       "      <td>0.094</td>\n",
       "    </tr>\n",
       "    <tr>\n",
       "      <th>2</th>\n",
       "      <td>25.0</td>\n",
       "      <td>0.50</td>\n",
       "      <td>250.0</td>\n",
       "      <td>0.250</td>\n",
       "    </tr>\n",
       "    <tr>\n",
       "      <th>3</th>\n",
       "      <td>25.0</td>\n",
       "      <td>0.75</td>\n",
       "      <td>400.0</td>\n",
       "      <td>0.500</td>\n",
       "    </tr>\n",
       "    <tr>\n",
       "      <th>4</th>\n",
       "      <td>25.0</td>\n",
       "      <td>1.00</td>\n",
       "      <td>800.0</td>\n",
       "      <td>1.000</td>\n",
       "    </tr>\n",
       "  </tbody>\n",
       "</table>\n",
       "</div>"
      ],
      "text/plain": [
       "    度数x  累積相対度数X  平均所得y  平均所得の累積相対度数Y\n",
       "1  25.0     0.25  150.0         0.094\n",
       "2  25.0     0.50  250.0         0.250\n",
       "3  25.0     0.75  400.0         0.500\n",
       "4  25.0     1.00  800.0         1.000"
      ]
     },
     "execution_count": 26,
     "metadata": {},
     "output_type": "execute_result"
    }
   ],
   "source": [
    "pd.DataFrame(np.c_[x, X, y, Y],\n",
    "             columns=['度数x', '累積相対度数X', '平均所得y', '平均所得の累積相対度数Y'],\n",
    "             index=[1,2,3,4])"
   ]
  },
  {
   "cell_type": "markdown",
   "metadata": {},
   "source": [
    "次に，横軸に階級の累積相対度数$ X_{i} $，縦軸に平均所得の累積相対度数$ Y_{i} $を取ったグラフを考える．\n",
    "これを**ローレンツ曲線**と呼ぶ．\n",
    "ローレンツ曲線の横軸，縦軸は（比率なので）0から1の範囲であり，必ず両端が$ (0, 0) $と$ (1, 1) $の折れ線グラフとなる．\n",
    "ローレンツ曲線上の$ (X, Y) $という点は，集団全体の貧しい側から$ X\\times100 $\\%の人が全体の$ Y\\times100 $\\%の所得を占めることを表す．\n",
    "例えば，$ (0.25, 0.1) $という点は，集団全体の25\\%の人が10\\%の富を占めるということを表す．\n",
    "もし，所得が全人物に平等に配分されている場合，ローレンツ曲線は傾き1の直線となり，これを**完全平等線**と呼ぶ．\n",
    "一方，所得の配分に格差があるほどローレンツ曲線は完全平等線から下にずれていく．\n",
    "このように，ローレンツ曲線はある集団における所得の配分格差を可視化したグラフといえる．"
   ]
  },
  {
   "cell_type": "code",
   "execution_count": 29,
   "metadata": {
    "id": "AvxbuqmoK9OO",
    "outputId": "526575fd-7167-4dc1-a9c5-c263a847b80e"
   },
   "outputs": [
    {
     "data": {
      "image/png": "[encoded data removed]",
      "text/plain": [
       "<Figure size 500x400 with 1 Axes>"
      ]
     },
     "metadata": {
      "filenames": {
       "image/png": "/Users/narizuka/work/document/lecture/rissho/info_process/book/_build/jupyter_execute/chap_4/chap_4_58_0.png"
      }
     },
     "output_type": "display_data"
    }
   ],
   "source": [
    "fig, ax = plt.subplots(figsize=(5, 4))\n",
    "\n",
    "X2 = np.append(0, X)\n",
    "Y2 = np.append(0, Y)\n",
    "ax.plot(X2, Y2, 'o--')\n",
    "ax.plot([0, 1], [0, 1], '-')\n",
    "\n",
    "ax.set_xlim(0, 1)\n",
    "ax.set_ylim(0, 1)\n",
    "ax.set_xlabel(u'階級の累積相対度数', fontsize=15)\n",
    "ax.set_ylabel(u'所得の累積相対度数', fontsize=15);\n",
    "fig.savefig('./lorentz.pdf', bbox_inches=\"tight\", pad_inches=0.2, transparent=True, dpi=300)"
   ]
  },
  {
   "cell_type": "markdown",
   "metadata": {},
   "source": [
    "### ジニ係数"
   ]
  },
  {
   "cell_type": "markdown",
   "metadata": {},
   "source": [
    "集団の格差の度合いはローレンツ曲線が完全平等線から下にずれるほど大きくなる．\n",
    "よって，ローレンツ曲線と完全平等線によって囲まれた部分の面積が，完全平等線，$ x=1 $，$ y=0 $で構成される三角形の面積に占め比率を格差の指標と考えることができる．\n",
    "この指標は**ジニ係数**と呼ばれ，$G$と表す．"
   ]
  },
  {
   "cell_type": "markdown",
   "metadata": {},
   "source": [
    "**（参考）ジニ係数を求める公式**\n",
    "\n",
    "階級を$ n $等分したとき，下から$ i $番目の階級の平均所得を$ y_{i} $とする（$ y_{1}\\leq y_{2} \\leq \\cdots \\leq y_{n} $）．\n",
    "このとき，ジニ係数を以下のように表すことができる：\n",
    "\n",
    "$$\n",
    "\tG = \\frac{1}{2n^{2} \\bar{y}} \\sum_{i=1}^{n} \\sum_{j=1}^{n} |y_{i} - y_{j}|\n",
    "$$(eq:gini)\n",
    "\n",
    "ただし，$ \\bar{y} = \\frac{1}{n} \\sum_{i=1}^{n} y_{i} $は全体の平均所得である．\n",
    "ジニ係数は0から1の間で定義され，完全に平等な配分のときに$ G=0 $，一人がすべての所得を占有しているときに$ G=(n-1)/n $となる（つまり$ n $が大きいときには1に近づく）．"
   ]
  },
  {
   "cell_type": "markdown",
   "metadata": {},
   "source": [
    "```{admonition} （参考）$ n=3 $ の場合の証明\n",
    ":class: dropdown\n",
    "\n",
    "まず，式{eq}`eq:gini`を用いてジニ係数を計算すると，\n",
    "\\begin{align*}\n",
    "\t\\bar{y} &= \\frac{1}{3} (y_{1}+y_{2}+y_{3}) \\\\\n",
    "\t\\sum_{i=1}^{3}\\sum_{j=1}^{3} |y_{i}-y_{j}|\n",
    "\t&= 2\\{(y_{2}-y_{1})+(y_{3}-y_{1})+(y_{3}-y_{2})\\} \\\\\n",
    "\t&= 4(y_{3}-y_{1}) \n",
    "\\end{align*}\n",
    "より\n",
    "\\begin{align*}\n",
    "\tG &= \\frac{2}{3} \\frac{y_{3}-y_{1}}{y_{1}+y_{2}+y_{3}}\n",
    "\\end{align*}\n",
    "となる．\n",
    "\n",
    "次に，面積からジニ係数を計算する．\n",
    "ローレンツ曲線の横軸と縦軸の値はそれぞれ{numref}`tb:n=3`のようになる．\n",
    "ローレンツ曲線と$ x=1 $，$ y=0 $に囲まれた領域の面積は1つの三角形と2つの台形から成るので，\n",
    "\n",
    "\\begin{align*}\n",
    "\t\\frac{1}{2}\\cdot\\frac{1}{3} \\left[\\alpha_{1}+(\\alpha_{1}+\\alpha_{2})+(\\alpha_{2}+1)\\right]\n",
    "\t&= \\frac{1}{6}(2\\alpha_{1}+2\\alpha_{2}+1)\n",
    "\\end{align*}\n",
    "\n",
    "これより，完全平等線と$ x=1 $，$ y=0 $に囲まれた領域の面積は\n",
    "\n",
    "\\begin{align*}\n",
    "\t\\frac{1}{2} - \\frac{1}{6}(2\\alpha_{1}+2\\alpha_{2}+1) = \\frac{1}{3} (1-\\alpha_{1}-\\alpha_{2})\n",
    "\\end{align*}\n",
    "\n",
    "となるので，ジニ係数は\n",
    "\n",
    "\\begin{align*}\n",
    "\tG \n",
    "\t&= \\frac{1}{3} (1-\\alpha_{1}-\\alpha_{2}) \\div \\frac{1}{2} \\\\\n",
    "\t&= \\frac{2}{3} (1-\\alpha_{1}-\\alpha_{2}) \\\\\n",
    "\t&= \\frac{2}{3} \\frac{y_{3}-y_{1}}{y_{1}+y_{2}+y_{3}}\n",
    "\\end{align*}\n",
    "\n",
    "と求まる．\n",
    "\n",
    "以上より，式{eq}`eq:gini`から求めたジニ係数と面積から求めたジニ係数が確かに一致することが分かった．\n",
    "なお，一般の$ n $に対する証明は省略する．\n",
    "\n",
    "```"
   ]
  },
  {
   "cell_type": "markdown",
   "metadata": {},
   "source": [
    "```{table} $ n=3 $の場合の度数分布表\n",
    ":name: tb:n=3\n",
    "|  階級  | 累積相対度数（横軸） | 所得の累積相対度数（縦軸） |\n",
    "| :---: | :---: | :---: |\n",
    "| 1    |  $1/3$ | $\\alpha_{1}=\\frac{y_{1}}{y_{1}+y_{2}+y_{3}}$ |\n",
    "| 2   | $2/3$ | $\\alpha_{1}=\\frac{y_{1}+y_{2}}{y_{1}+y_{2}+y_{3}}$ |\n",
    "| 3  | $1$ | 1 |\n",
    "```"
   ]
  },
  {
   "cell_type": "markdown",
   "metadata": {
    "id": "uJkmTxUWK9OP"
   },
   "source": [
    "**Pythonによる実装**"
   ]
  },
  {
   "cell_type": "code",
   "execution_count": 13,
   "metadata": {
    "id": "rFYc4rT-K9OP"
   },
   "outputs": [
    {
     "data": {
      "text/plain": [
       "0.328"
      ]
     },
     "execution_count": 13,
     "metadata": {},
     "output_type": "execute_result"
    }
   ],
   "source": [
    "# 面積から求める\n",
    "S1 = 0.5  # 完全平等選，x軸，y軸で囲まれた三角形の面積\n",
    "S2 = 0    # ローレンツ曲線，x軸，y軸で囲まれた面積\n",
    "for (a, b, h) in zip(Y2[:-1], Y2[1:], np.diff(X2)):\n",
    "    S2 += (a+b)*h/2\n",
    "G = (S1 - S2) / S1\n",
    "G"
   ]
  },
  {
   "cell_type": "code",
   "execution_count": 14,
   "metadata": {
    "id": "FODa9H9UK9OQ",
    "outputId": "9b2a6cf8-e241-4670-a86a-645348c3ba28"
   },
   "outputs": [
    {
     "data": {
      "text/plain": [
       "0.328"
      ]
     },
     "execution_count": 14,
     "metadata": {},
     "output_type": "execute_result"
    }
   ],
   "source": [
    "# 公式から求める\n",
    "G = np.fabs(np.add.outer(y, -y)).sum() / np.mean(y) / 2 / len(y)**2\n",
    "G"
   ]
  },
  {
   "cell_type": "markdown",
   "metadata": {
    "id": "nofmI9qrK9OQ"
   },
   "source": [
    "## 実例：地域の豊かさの格差は拡大しているか？"
   ]
  },
  {
   "cell_type": "markdown",
   "metadata": {},
   "source": [
    "### STEP1: Problem\n",
    "\n",
    "- 2015年の国勢調査では，日本全体の人口が1920年の調査開始以来，初めて減少したことが明らかになった．\n",
    "- また，都道府県ごとの人口を見ても，5年前（2010年）に比べて人口が減少したのは39の道府県にのぼる．\n",
    "- 一方，東京を中心とした大都市には人口が集中し，都市部と地方の格差が広がっているのも事実である．\n",
    "- 人口は経済・社会の基盤を成すものであり，人口の増減は経済的な豊かさと密接に関わっていると思われる．\n",
    "- 近年の人口変動によって，地域間で経済的な豊かさの格差は拡大したのだろうか？"
   ]
  },
  {
   "cell_type": "markdown",
   "metadata": {
    "id": "-H2gKByrrSi1"
   },
   "source": [
    "### STEP2: Plan\n",
    "\n",
    "- 地域ごとの経済的な豊かさを捉える指標として，都道府県別の1人当たり県民所得に着目する．\n",
    "- これは，企業を含めて県民全体の経済水準を表すもので，都道府県間で比較可能な統計データである．\n",
    "- ただし，各都道府県は人口規模が大きく異るので，地域ごとに比較する際は規模を表す人口等の変数で割った量を用いることが必要となる．\n",
    "- そこで，今回用いる1人当たり県民所得は，県民所得を県内に居住する人口（「国勢調査」と「人口推計」に準拠）で除して求める．\n",
    "- また，格差の大きさは一人当たり県民所得の標準偏差，変動係数，ジニ係数で評価し，ばらつきが40年間で拡大しているか否かを調べる．"
   ]
  },
  {
   "cell_type": "markdown",
   "metadata": {
    "id": "6QZ9w9ptrSi1"
   },
   "source": [
    "### STEP3: Data\n",
    "\n",
    "- [1人当たり県民所得のデータ](https://drive.google.com/uc?export=download&id=1dsA-HFOtttRLpa1RD8FhdaThv_gmgRyF)をダウンロードし，Pandasで読み込め\n",
    "  - このデータは内閣府[県民経済計算](https://www.esri.cao.go.jp/jp/sna/data/data_list/kenmin/files/files_kenmin.html) を基に作成している．\n",
    "  - ただし，年度が同じでも基準（平成23年基準や平成17年基準など）によって算出された値が異なる．\n",
    "  - そこで，異なる基準のデータが適切に接続するように，一部推定値を用いている．\n",
    "- 読み込んだ所得のデータは単位が千円になっているので，万円に直せ．"
   ]
  },
  {
   "cell_type": "code",
   "execution_count": 15,
   "metadata": {
    "id": "Uxb-kpaZK9OQ"
   },
   "outputs": [
    {
     "data": {
      "text/html": [
       "<div>\n",
       "<style scoped>\n",
       "    .dataframe tbody tr th:only-of-type {\n",
       "        vertical-align: middle;\n",
       "    }\n",
       "\n",
       "    .dataframe tbody tr th {\n",
       "        vertical-align: top;\n",
       "    }\n",
       "\n",
       "    .dataframe thead th {\n",
       "        text-align: right;\n",
       "    }\n",
       "</style>\n",
       "<table border=\"1\" class=\"dataframe\">\n",
       "  <thead>\n",
       "    <tr style=\"text-align: right;\">\n",
       "      <th></th>\n",
       "      <th>1975</th>\n",
       "      <th>1976</th>\n",
       "      <th>1977</th>\n",
       "      <th>1978</th>\n",
       "      <th>1979</th>\n",
       "      <th>...</th>\n",
       "      <th>2014</th>\n",
       "      <th>2015</th>\n",
       "      <th>2016</th>\n",
       "      <th>2017</th>\n",
       "      <th>2018</th>\n",
       "    </tr>\n",
       "    <tr>\n",
       "      <th>p</th>\n",
       "      <th></th>\n",
       "      <th></th>\n",
       "      <th></th>\n",
       "      <th></th>\n",
       "      <th></th>\n",
       "      <th></th>\n",
       "      <th></th>\n",
       "      <th></th>\n",
       "      <th></th>\n",
       "      <th></th>\n",
       "      <th></th>\n",
       "    </tr>\n",
       "  </thead>\n",
       "  <tbody>\n",
       "    <tr>\n",
       "      <th>hokkaido</th>\n",
       "      <td>106.0</td>\n",
       "      <td>120.0</td>\n",
       "      <td>135.0</td>\n",
       "      <td>146.0</td>\n",
       "      <td>159.0</td>\n",
       "      <td>...</td>\n",
       "      <td>251.0</td>\n",
       "      <td>261.0</td>\n",
       "      <td>262.0</td>\n",
       "      <td>269.0</td>\n",
       "      <td>274.0</td>\n",
       "    </tr>\n",
       "    <tr>\n",
       "      <th>aomori</th>\n",
       "      <td>85.0</td>\n",
       "      <td>93.0</td>\n",
       "      <td>102.0</td>\n",
       "      <td>114.0</td>\n",
       "      <td>122.0</td>\n",
       "      <td>...</td>\n",
       "      <td>240.0</td>\n",
       "      <td>254.0</td>\n",
       "      <td>257.0</td>\n",
       "      <td>251.0</td>\n",
       "      <td>251.0</td>\n",
       "    </tr>\n",
       "    <tr>\n",
       "      <th>iwate</th>\n",
       "      <td>84.0</td>\n",
       "      <td>92.0</td>\n",
       "      <td>106.0</td>\n",
       "      <td>120.0</td>\n",
       "      <td>126.0</td>\n",
       "      <td>...</td>\n",
       "      <td>259.0</td>\n",
       "      <td>267.0</td>\n",
       "      <td>268.0</td>\n",
       "      <td>278.0</td>\n",
       "      <td>284.0</td>\n",
       "    </tr>\n",
       "    <tr>\n",
       "      <th>miyagi</th>\n",
       "      <td>102.0</td>\n",
       "      <td>111.0</td>\n",
       "      <td>124.0</td>\n",
       "      <td>135.0</td>\n",
       "      <td>142.0</td>\n",
       "      <td>...</td>\n",
       "      <td>276.0</td>\n",
       "      <td>292.0</td>\n",
       "      <td>289.0</td>\n",
       "      <td>294.0</td>\n",
       "      <td>294.0</td>\n",
       "    </tr>\n",
       "    <tr>\n",
       "      <th>akita</th>\n",
       "      <td>93.0</td>\n",
       "      <td>103.0</td>\n",
       "      <td>115.0</td>\n",
       "      <td>122.0</td>\n",
       "      <td>127.0</td>\n",
       "      <td>...</td>\n",
       "      <td>240.0</td>\n",
       "      <td>249.0</td>\n",
       "      <td>256.0</td>\n",
       "      <td>270.0</td>\n",
       "      <td>270.0</td>\n",
       "    </tr>\n",
       "    <tr>\n",
       "      <th>...</th>\n",
       "      <td>...</td>\n",
       "      <td>...</td>\n",
       "      <td>...</td>\n",
       "      <td>...</td>\n",
       "      <td>...</td>\n",
       "      <td>...</td>\n",
       "      <td>...</td>\n",
       "      <td>...</td>\n",
       "      <td>...</td>\n",
       "      <td>...</td>\n",
       "      <td>...</td>\n",
       "    </tr>\n",
       "    <tr>\n",
       "      <th>kumamoto</th>\n",
       "      <td>94.0</td>\n",
       "      <td>105.0</td>\n",
       "      <td>115.0</td>\n",
       "      <td>125.0</td>\n",
       "      <td>134.0</td>\n",
       "      <td>...</td>\n",
       "      <td>235.0</td>\n",
       "      <td>242.0</td>\n",
       "      <td>253.0</td>\n",
       "      <td>265.0</td>\n",
       "      <td>267.0</td>\n",
       "    </tr>\n",
       "    <tr>\n",
       "      <th>oita</th>\n",
       "      <td>87.0</td>\n",
       "      <td>97.0</td>\n",
       "      <td>110.0</td>\n",
       "      <td>122.0</td>\n",
       "      <td>130.0</td>\n",
       "      <td>...</td>\n",
       "      <td>246.0</td>\n",
       "      <td>261.0</td>\n",
       "      <td>259.0</td>\n",
       "      <td>269.0</td>\n",
       "      <td>271.0</td>\n",
       "    </tr>\n",
       "    <tr>\n",
       "      <th>miyazaki</th>\n",
       "      <td>82.0</td>\n",
       "      <td>90.0</td>\n",
       "      <td>102.0</td>\n",
       "      <td>114.0</td>\n",
       "      <td>120.0</td>\n",
       "      <td>...</td>\n",
       "      <td>224.0</td>\n",
       "      <td>232.0</td>\n",
       "      <td>239.0</td>\n",
       "      <td>245.0</td>\n",
       "      <td>247.0</td>\n",
       "    </tr>\n",
       "    <tr>\n",
       "      <th>kagoshima</th>\n",
       "      <td>80.0</td>\n",
       "      <td>91.0</td>\n",
       "      <td>102.0</td>\n",
       "      <td>111.0</td>\n",
       "      <td>115.0</td>\n",
       "      <td>...</td>\n",
       "      <td>228.0</td>\n",
       "      <td>236.0</td>\n",
       "      <td>240.0</td>\n",
       "      <td>251.0</td>\n",
       "      <td>251.0</td>\n",
       "    </tr>\n",
       "    <tr>\n",
       "      <th>okinawa</th>\n",
       "      <td>83.0</td>\n",
       "      <td>88.0</td>\n",
       "      <td>95.0</td>\n",
       "      <td>106.0</td>\n",
       "      <td>115.0</td>\n",
       "      <td>...</td>\n",
       "      <td>206.0</td>\n",
       "      <td>219.0</td>\n",
       "      <td>231.0</td>\n",
       "      <td>235.0</td>\n",
       "      <td>239.0</td>\n",
       "    </tr>\n",
       "  </tbody>\n",
       "</table>\n",
       "<p>47 rows × 44 columns</p>\n",
       "</div>"
      ],
      "text/plain": [
       "            1975   1976   1977   1978   1979  ...   2014   2015   2016   2017  \\\n",
       "p                                             ...                               \n",
       "hokkaido   106.0  120.0  135.0  146.0  159.0  ...  251.0  261.0  262.0  269.0   \n",
       "aomori      85.0   93.0  102.0  114.0  122.0  ...  240.0  254.0  257.0  251.0   \n",
       "iwate       84.0   92.0  106.0  120.0  126.0  ...  259.0  267.0  268.0  278.0   \n",
       "miyagi     102.0  111.0  124.0  135.0  142.0  ...  276.0  292.0  289.0  294.0   \n",
       "akita       93.0  103.0  115.0  122.0  127.0  ...  240.0  249.0  256.0  270.0   \n",
       "...          ...    ...    ...    ...    ...  ...    ...    ...    ...    ...   \n",
       "kumamoto    94.0  105.0  115.0  125.0  134.0  ...  235.0  242.0  253.0  265.0   \n",
       "oita        87.0   97.0  110.0  122.0  130.0  ...  246.0  261.0  259.0  269.0   \n",
       "miyazaki    82.0   90.0  102.0  114.0  120.0  ...  224.0  232.0  239.0  245.0   \n",
       "kagoshima   80.0   91.0  102.0  111.0  115.0  ...  228.0  236.0  240.0  251.0   \n",
       "okinawa     83.0   88.0   95.0  106.0  115.0  ...  206.0  219.0  231.0  235.0   \n",
       "\n",
       "            2018  \n",
       "p                 \n",
       "hokkaido   274.0  \n",
       "aomori     251.0  \n",
       "iwate      284.0  \n",
       "miyagi     294.0  \n",
       "akita      270.0  \n",
       "...          ...  \n",
       "kumamoto   267.0  \n",
       "oita       271.0  \n",
       "miyazaki   247.0  \n",
       "kagoshima  251.0  \n",
       "okinawa    239.0  \n",
       "\n",
       "[47 rows x 44 columns]"
      ]
     },
     "execution_count": 15,
     "metadata": {},
     "output_type": "execute_result"
    }
   ],
   "source": [
    "PI = pd.read_csv('prefectural_income.csv', index_col='p')\n",
    "PI.columns = PI.columns.astype(int)\n",
    "PI = np.round(PI/10, 0)  # 単位を万円に変換\n",
    "PI"
   ]
  },
  {
   "cell_type": "markdown",
   "metadata": {
    "id": "8drQ4hg0rSi1"
   },
   "source": [
    "### STEP4: Analysis"
   ]
  },
  {
   "cell_type": "markdown",
   "metadata": {
    "id": "cBKxfoKgrSi1"
   },
   "source": [
    "**実習：平均と標準偏差**\n",
    "- 各年度に対して1人あたり県民所得の平均と標準偏差を求め，時系列変化を同じグラフ上にプロットせよ．\n",
    "- 1975年〜91年の標準偏差は一貫して増加しており，格差は拡大しているように見えるが，本当にそう言えるか？標準偏差の特徴を踏まえた上で平均値の変化と関連付けて考えよ．"
   ]
  },
  {
   "cell_type": "code",
   "execution_count": 17,
   "metadata": {
    "id": "-QwfoDmdrSi1",
    "outputId": "af2cfacc-0c59-40bd-ea36-e31487c5b93e"
   },
   "outputs": [
    {
     "data": {
      "image/png": "[encoded data removed]",
      "text/plain": [
       "<Figure size 700x300 with 2 Axes>"
      ]
     },
     "metadata": {
      "filenames": {
       "image/png": "/Users/narizuka/work/document/lecture/rissho/info_process/book/_build/jupyter_execute/chap_4/chap_4_74_0.png"
      }
     },
     "output_type": "display_data"
    }
   ],
   "source": [
    "fig, ax = plt.subplots(figsize=(7, 3))\n",
    "ax.set_xlabel('年度')\n",
    "\n",
    "# 1人あたり県民所得の平均\n",
    "ax.plot(PI.columns, PI.mean())\n",
    "ax.set_ylim(0, 350)\n",
    "ax.set_ylabel('1人あたり県民所得の平均（万円）')\n",
    "\n",
    "# 1人あたり県民所得の標準偏差\n",
    "ax2 = ax.twinx()\n",
    "ax2.plot(PI.columns, PI.std(), 'r--')\n",
    "ax2.set_ylim(0, 70)\n",
    "ax2.set_ylabel('1人あたり県民所得の標準偏差（万円）', color='r', rotation=270, labelpad=15)\n",
    "\n",
    "# 保存\n",
    "fig.savefig('./ave_std.png', bbox_inches=\"tight\", pad_inches=0.2, transparent=False, dpi=300)"
   ]
  },
  {
   "cell_type": "markdown",
   "metadata": {
    "id": "55NnjbW_rSi1"
   },
   "source": [
    "**実習：変動係数**\n",
    "- 全年度に対して1人あたり県民所得の標準偏差と変動係数を求め，時系列変化を同じグラフ上にプロットせよ．\n",
    "- 変動係数の変化から，1975年〜91年および全期間にかけて格差が増加しているか考えよ．"
   ]
  },
  {
   "cell_type": "code",
   "execution_count": 18,
   "metadata": {
    "id": "v2KI5F8ErSi2",
    "outputId": "2b08cbf0-3493-4318-a69e-989eff84ec7c"
   },
   "outputs": [
    {
     "data": {
      "image/png": "[encoded data removed]",
      "text/plain": [
       "<Figure size 700x300 with 2 Axes>"
      ]
     },
     "metadata": {
      "filenames": {
       "image/png": "/Users/narizuka/work/document/lecture/rissho/info_process/book/_build/jupyter_execute/chap_4/chap_4_76_0.png"
      }
     },
     "output_type": "display_data"
    }
   ],
   "source": [
    "fig, ax = plt.subplots(figsize=(7, 3))\n",
    "ax.set_xlabel('年度', fontname='IPAexGothic')\n",
    "\n",
    "# 1人あたり県民所得の標準偏差\n",
    "ax.plot(PI.columns, PI.std(), 'k-')\n",
    "ax.set_ylim(0, 70)\n",
    "ax.set_ylabel('1人あたり県民所得の標準偏差（万円）', fontname='IPAexGothic')\n",
    "\n",
    "# 1人あたり県民所得の変動係数\n",
    "ax2 = ax.twinx()\n",
    "ax2.plot(PI.columns, PI.std()/PI.mean(), 'r--')\n",
    "ax2.set_ylim(0, 0.2)\n",
    "ax2.set_ylabel('1人あたり県民所得の変動係数', fontname='IPAexGothic', color='r', rotation=270, labelpad=15)\n",
    "\n",
    "fig.savefig('./std_cv.png', bbox_inches=\"tight\", pad_inches=0.2, transparent=False, dpi=300)"
   ]
  },
  {
   "cell_type": "markdown",
   "metadata": {
    "id": "Ec1o2YA9rSi2"
   },
   "source": [
    "**実習：ローレンツ曲線，ジニ係数**\n",
    "- 年度を１つ選び，その年度のローレンツ曲線とジニ係数を求めよ．\n",
    "- 全年度に対してジニ係数を求め，時系列変化を可視化せよ．\n",
    "- ジニ係数の変化から，1975年〜91年および全期間にかけて格差が増加しているか考えよ．"
   ]
  },
  {
   "cell_type": "markdown",
   "metadata": {
    "id": "znY-vDkFrSi2"
   },
   "source": [
    "2013年度のローレンツ曲線とジニ係数"
   ]
  },
  {
   "cell_type": "code",
   "execution_count": 19,
   "metadata": {
    "id": "7R1gR19NrSi2"
   },
   "outputs": [
    {
     "name": "stdout",
     "output_type": "stream",
     "text": [
      "0.08075059652462442\n"
     ]
    }
   ],
   "source": [
    "x = np.ones(47)\n",
    "X = np.cumsum(x) / np.sum(x)\n",
    "y = np.sort(PI[2013])\n",
    "Y = np.cumsum(y) / np.sum(y)\n",
    "X2 = np.append(0, X)\n",
    "Y2 = np.append(0, Y)\n",
    "\n",
    "g = np.fabs(np.add.outer(y, -y)).sum() / np.mean(y) / 2 / len(y)**2\n",
    "print(g)"
   ]
  },
  {
   "cell_type": "code",
   "execution_count": 30,
   "metadata": {
    "id": "X2bEsaQarSi2",
    "outputId": "526575fd-7167-4dc1-a9c5-c263a847b80e"
   },
   "outputs": [
    {
     "data": {
      "image/png": "[encoded data removed]",
      "text/plain": [
       "<Figure size 350x300 with 1 Axes>"
      ]
     },
     "metadata": {
      "filenames": {
       "image/png": "/Users/narizuka/work/document/lecture/rissho/info_process/book/_build/jupyter_execute/chap_4/chap_4_80_0.png"
      }
     },
     "output_type": "display_data"
    }
   ],
   "source": [
    "fig, ax = plt.subplots()\n",
    "\n",
    "ax.plot(X2, Y2, '--')\n",
    "ax.plot([0, 1], [0, 1], '-')\n",
    "\n",
    "ax.set_xlim(0, 1)\n",
    "ax.set_ylim(0, 1)\n",
    "ax.set_xlabel(u'階級の累積相対度数')\n",
    "ax.set_ylabel(u'平均所得の累積相対度数')\n",
    "\n",
    "fig.savefig('./lorenz_curve.png', bbox_inches=\"tight\", pad_inches=0.2, transparent=False, dpi=300)"
   ]
  },
  {
   "cell_type": "markdown",
   "metadata": {
    "id": "Y7dK87wtrSi2"
   },
   "source": [
    "ジニ係数の時間変化"
   ]
  },
  {
   "cell_type": "code",
   "execution_count": 21,
   "metadata": {
    "id": "5ivXhBp4rSi2"
   },
   "outputs": [],
   "source": [
    "# ジニ係数の計算（公式を使う）\n",
    "G = []\n",
    "for t in PI.columns:\n",
    "    x = np.ones(47)\n",
    "    X = np.cumsum(x) / np.sum(x)\n",
    "    y = np.sort(PI[t])\n",
    "    Y = np.cumsum(y) / np.sum(y)\n",
    "\n",
    "    g = np.fabs(np.add.outer(y, -y)).sum() / np.mean(y) / 2 / len(y)**2\n",
    "    G.append(g)"
   ]
  },
  {
   "cell_type": "code",
   "execution_count": 22,
   "metadata": {
    "id": "YZSpSTDRrSi2",
    "outputId": "b332b0c0-27d3-410c-bfe7-d4e9aa6b76b4"
   },
   "outputs": [
    {
     "data": {
      "image/png": "[encoded data removed]",
      "text/plain": [
       "<Figure size 700x300 with 2 Axes>"
      ]
     },
     "metadata": {
      "filenames": {
       "image/png": "/Users/narizuka/work/document/lecture/rissho/info_process/book/_build/jupyter_execute/chap_4/chap_4_83_0.png"
      }
     },
     "output_type": "display_data"
    }
   ],
   "source": [
    "fig, ax = plt.subplots(figsize=(7, 3))\n",
    "ax.set_xlabel('年度')\n",
    "\n",
    "# 1人あたり県民所得の変動係数\n",
    "ax.plot(PI.columns, PI.std()/PI.mean(), 'k', label='変動係数')\n",
    "ax.set_ylim(0.1, 0.2)\n",
    "ax.set_ylabel('1人あたり県民所得の変動係数')\n",
    "\n",
    "# ジニ係数\n",
    "ax2 = ax.twinx()\n",
    "ax2.plot(PI.columns, np.array(G), 'r--', label='ジニ係数')\n",
    "ax2.set_ylim(0.05, 0.1)\n",
    "ax2.set_ylabel('1人あたり県民所得のジニ係数', color='r', rotation=270, labelpad=15)\n",
    "\n",
    "# 保存\n",
    "fig.savefig('./gini.png', bbox_inches=\"tight\", pad_inches=0.2, transparent=False, dpi=300)"
   ]
  },
  {
   "cell_type": "markdown",
   "metadata": {
    "id": "hfhTvSW_rSi2"
   },
   "source": [
    "### STEP 5: Conclusion\n",
    "\n",
    "- 格差を表す指標の40年間の推移から地域間で経済的な豊かさの格差が拡大したのかどうか考えよ．\n",
    "- 格差を表す指標の40年間の推移を見ると，細かい時間スケールでの変動が見られる．これらは具体的にどのような出来事を反映していると考えられるか？\n",
    "- 2023年現在のデータを使用すると，どのような変化が観られるか？"
   ]
  }
 ],
 "metadata": {
  "colab": {
   "name": "sec_2-2.ipynb",
   "provenance": []
  },
  "kernelspec": {
   "display_name": "Python 3.9.13 ('myenv')",
   "language": "python",
   "name": "python3"
  },
  "language_info": {
   "codemirror_mode": {
    "name": "ipython",
    "version": 3
   },
   "file_extension": ".py",
   "mimetype": "text/x-python",
   "name": "python",
   "nbconvert_exporter": "python",
   "pygments_lexer": "ipython3",
   "version": "3.9.13"
  },
  "toc-autonumbering": false,
  "vscode": {
   "interpreter": {
    "hash": "911fd4aa1eca4252368dc27db61226a38a6cfe922f9bbc90c7d50e9c97ede316"
   }
  }
 },
 "nbformat": 4,
 "nbformat_minor": 4
}