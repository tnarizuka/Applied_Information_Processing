{
 "cells": [
  {
   "cell_type": "code",
   "execution_count": 4,
   "metadata": {},
   "outputs": [
    {
     "data": {
      "text/plain": [
       "'%.3f'"
      ]
     },
     "execution_count": 4,
     "metadata": {},
     "output_type": "execute_result"
    }
   ],
   "source": [
    "# モジュール・ライブラリのインポート（必ず最初に実行）\n",
    "import sys, os\n",
    "import numpy as np\n",
    "import matplotlib.pyplot as plt\n",
    "import pandas as pd\n",
    "import scipy as sp\n",
    "from scipy import optimize\n",
    "\n",
    "# 日本語フォントの設定（Mac:'Hiragino Sans', Windows:'MS Gothic'）\n",
    "plt.rcParams['font.family'] = 'Hiragino Sans'\n",
    "\n",
    "# 表記の設定\n",
    "pd.set_option('display.precision', 3)   # 小数点以下の表示桁\n",
    "pd.set_option('display.max_rows', 20)  # 表示する行数\n",
    "pd.set_option('display.max_columns', 10)  # 表示する行数\n",
    "%precision 3"
   ]
  },
  {
   "cell_type": "markdown",
   "metadata": {},
   "source": [
    "# 確率の応用"
   ]
  },
  {
   "cell_type": "markdown",
   "metadata": {},
   "source": [
    "## 確率変数と確率分布"
   ]
  },
  {
   "cell_type": "markdown",
   "metadata": {},
   "source": [
    "### 確率変数\n",
    "\n",
    "確率を数学的に扱うには，確率的な事象が数値で表されている必要がある．\n",
    "例えば，サイコロを投げる場合，目の数字を変数と見なすと，各事象には1から6までの整数値が与えられることになる．\n",
    "また，雨が降る，降らないといった事象の場合には，「降る」を1，「降らない」を0とすれば変数となり得る．\n",
    "このように，確率的な事象に数値を対応させた変数 $ X $ に対して $ X=x $ となる確率が定まっているとき，$ X $を**確率変数**と呼ぶ．\n",
    "一般に，確率変数 $ X $ は大文字で表し，個々の試行の結果（確率変数の**実現値**）は小文字で表す．\n",
    "もし，確率変数 $ X $ が離散的な値 $ x_{1},\\ x_{2},\\ \\cdots $ しか取らないとき（サイコロの目など），$ X $を**離散型確率変数**と呼ぶ．\n",
    "一方，$ X $ が連続値を取る場合（重さ，長さ，時間など）は**連続型確率変数**と呼ぶ．"
   ]
  },
  {
   "cell_type": "markdown",
   "metadata": {},
   "source": [
    "### 離散型確率分布"
   ]
  },
  {
   "cell_type": "markdown",
   "metadata": {},
   "source": [
    "離散型確率変数 $ X $ が実現値 $ x_{i} $ を取る確率を\n",
    "$$\n",
    "\tP(X=x_{i}) = f(x_{i}) \\hspace{0.5cm} (i=1,2,\\cdots)\n",
    "$$\n",
    "\n",
    "と表す．\n",
    "ただし，$ f $ は以下の条件を満たすとする：\n",
    "\n",
    "$$\n",
    "\tf(x_{i}) \\geq 0, \\hspace{0.5cm}かつ \\hspace{0.5cm} \\sum_{i=1}^{\\infty} f(x_{i})=1\n",
    "$$\n",
    "\n",
    "このように，確率変数 $ X $ の各実現値 $ x_{1},\\ x_{2},\\ \\cdots $ に対してその確率を対応させた関数 $ f $ を**確率分布**と呼ぶ．\n",
    "特に，$ X $ が離散型確率変数の場合，$ f $ を**離散型確率分布**または**確率（質量）関数**と呼ぶ．\n",
    "また，確率変数 $ X $ が $ x $ 以下である確率を\n",
    "\n",
    "$$\n",
    "\tP(X \\leq x) = F(x) = \\sum_{x_{i}\\leq x} f(x_{i})\n",
    "$$\n",
    "\n",
    "と表し，これを**累積分布関数**と呼ぶ．\n",
    "なお，離散型確率変数の累積分布は不連続な関数となる．"
   ]
  },
  {
   "cell_type": "markdown",
   "metadata": {},
   "source": [
    "なお，記述統計学において，度数分布（ヒストグラム）を扱ったが，これは与えられたデータに対して，階級値と（相対）度数が対応したものであった．\n",
    "データ数 $ n $ が十分大きい（$ n\\to \\infty $）ときに相対度数が確率に一致するということを踏まえると，確率分布とはヒストグラムに対する理論的なモデルと捉えることができる．"
   ]
  },
  {
   "cell_type": "markdown",
   "metadata": {},
   "source": [
    "例として，サイコロを１個投げた場合を考える．\n",
    "この場合，確率変数の実現値は $ 1,2,3,4,5,6 $ であり，それぞれの確率が $ 1/6 $ なので，確率分布は以下のようになる：\n",
    "\n",
    "$$\n",
    "\tf(1) = \\frac{1}{6},\\ f(2) = \\frac{1}{6},\\ f(3) = \\frac{1}{6},\\ f(4) = \\frac{1}{6},\\ f(5) = \\frac{1}{6},\\ f(6) = \\frac{1}{6}\n",
    "$$\n",
    "\n",
    "なお，このように全ての実現値に対して同じ確率を取るような確率分布を**一様分布**と呼ぶ．"
   ]
  },
  {
   "cell_type": "markdown",
   "metadata": {},
   "source": [
    "### 連続型確率分布"
   ]
  },
  {
   "cell_type": "markdown",
   "metadata": {},
   "source": [
    "連続型確率変数の場合，確率変数 $ X $ がある実現値 $ a $ を取る確率はゼロとなる：\n",
    "\n",
    "$$\n",
    "\tP(X=a) = 0\n",
    "$$\n",
    "\n",
    "そこで，連続型確率変数の場合には，$ X $ がある範囲 $ a \\leq X \\leq b $ に入る確率を考え，\n",
    "\n",
    "$$\n",
    "\tP(a \\leq X \\leq b) = \\int_{a}^{b} f(x) dx\n",
    "$$\n",
    "\n",
    "と表す．\n",
    "ただし，$ f $ は以下の条件を満たす：\n",
    "\n",
    "$$\n",
    "\tf(x) \\geq 0, \\hspace{0.5cm}かつ \\hspace{0.5cm} \\int_{-\\infty}^{\\infty} f(x) dx = 1\n",
    "$$\n",
    "\n",
    "このとき，関数 $ f(x) $ を $ X $ の**確率密度関数**と呼ぶ．\n",
    "また，離散型の場合と同様に，$ X $ の取る値が $ x $ 以下である確率を\n",
    "\n",
    "$$\n",
    "\tF(x) = \\int_{-\\infty}^{x} f(x') dx'\n",
    "$$\n",
    "\n",
    "と表し，これを**累積分布関数**と呼ぶ．\n",
    "なお，微分積分学の基本定理より，累積分布関数と確率密度関数は\n",
    "\n",
    "$$\n",
    "\tf(x) = \\frac{d F(x)}{d x}\n",
    "$$\n",
    "の関係にある．"
   ]
  },
  {
   "cell_type": "markdown",
   "metadata": {},
   "source": [
    "## 期待値と分散\n",
    "\n",
    "一般に，ある確率変数が従う分布が与えられると，確率変数の各実現値がどのような確率で生じるか完全に分かる．\n",
    "つまり，確率関数や確率密度関数は確率変数に関する情報をすべて含んでいる．\n",
    "一方，現実の問題では，確率分布に関する細かい情報まで知る必要はなく，大体どの程度の値を取るかが分かれば良い場合も多い．\n",
    "このような場合，確率密度関数や確率分布関数を要約した統計量を用いたほうが良く，その代表例が期待値や分散・標準偏差である．\n",
    "これは，実データからヒストグラムを求めてその要約のために平均や分散を求めたのと同じことである．"
   ]
  },
  {
   "cell_type": "markdown",
   "metadata": {},
   "source": [
    "### 期待値"
   ]
  },
  {
   "cell_type": "markdown",
   "metadata": {},
   "source": [
    "確率分布においてもヒストグラムにおける平均値に対応する量を定義でき，これを**期待値**と呼ぶ．\n",
    "これは，試行の結果期待される値という意味である．\n",
    "一般に，確率変数 $ X $ に対する期待値は $ E(X) $ と表し，離散型，連続型それぞれに対して以下で定義される：\n",
    "\n",
    "\\begin{align*}\n",
    "\t\\begin{split}\n",
    "\tE(X) &= \\sum_{i=1}^{n} x_{i} f(x_{i}) \\hspace{0.5cm} （離散型）\\\\[15pt]\n",
    "\tE(X) &= \\int_{-\\infty}^{\\infty} x f(x) dx \\hspace{0.5cm}（連続型）\n",
    "\t\\end{split}\n",
    "\\end{align*}"
   ]
  },
  {
   "cell_type": "markdown",
   "metadata": {},
   "source": [
    "ある「くじ」から得られる賞金をどれだけ期待できるかを表すの期待金額であり，これが確率変数の期待値の本来的な意味である．\n",
    "いま，1から100までの番号がついた100個の玉が入っている箱から（毎回元に戻しながら）玉を1個取り出す．\n",
    "このとき，玉の番号に応じて賞金 $ X $ の金額が以下のように決まっているとする（単位は千円）：\n",
    "\n",
    "- 番号が1から60：$ x_{1}=0 $\n",
    "- 番号が61から90：$ x_{2}=1 $\n",
    "- 番号が91から100：$ x_{3}=10 $\n",
    "\n",
    "これより，くじを1回引いて $ x_{1},\\ x_{2},\\ x_{3} $ という結果が起きる確率（確率分布）は\n",
    "\n",
    "$$\n",
    "\tf(x_{1})=0.6,\\ f(x_{2})=0.3,\\ f(x_{3})=0.1\n",
    "$$\n",
    "\n",
    "である．\n",
    "このとき，くじを多数回引くときに得られる1回当たりの金額が期待値であり，式\\eqref{eq:expectation}より以下のように計算される：\n",
    "\n",
    "\\begin{align*}\n",
    "\tE(X) &= \\sum_{i=1}^{3} x_{i}f(x_{i})\\\\\n",
    "\t&= x_{1}f(x_{1}) + x_{2}f(x_{2}) + x_{3}f(x_{3}) \\\\\n",
    "\t&= 0\\times 0.6 + 1\\times 0.3 + 10 \\times 0.1 \\\\\n",
    "\t&= 1.3（千円）\n",
    "\\end{align*}"
   ]
  },
  {
   "cell_type": "markdown",
   "metadata": {},
   "source": [
    "### 分散"
   ]
  },
  {
   "cell_type": "markdown",
   "metadata": {},
   "source": [
    "期待値は分布の重心を表す指標であるが，期待値が同じでも形状が異なる分布はたくさんある．\n",
    "そこで，分布の形状に関するより詳しい情報を得るには，分布のばらつき具合を表す指標が必要となる．\n",
    "これが分散であり，$ \\mu = E[X] $に対して\n",
    "\n",
    "$$\n",
    "\tV(X) = E[(X-\\mu)^{2}]\n",
    "$$\n",
    "\n",
    "と定義される．\n",
    "特に，離散型，連続型の確率変数に対して以下のように与えられる：\n",
    "\n",
    "\\begin{align}\n",
    "\t\\begin{split}\n",
    "\tV(X) &= \\sum_{i} (x_{i}-\\mu)^{2} f(x_{i}) \\hspace{0.5cm}（離散型） \\\\\n",
    "\tV(X) &= \\int_{-\\infty}^{\\infty} (x-\\mu)^{2} f(x) dx \\hspace{0.5cm}（連続型）\n",
    "\t\\end{split}\n",
    "\\end{align}\n",
    "\n",
    "\n",
    "なお，確率分布の標準偏差は分散の平方根として定義される．"
   ]
  },
  {
   "cell_type": "markdown",
   "metadata": {},
   "source": [
    "## 代表的な離散型確率分布"
   ]
  },
  {
   "cell_type": "markdown",
   "metadata": {},
   "source": [
    "## 代表的な連続型確率分布\n"
   ]
  }
 ],
 "metadata": {
  "kernelspec": {
   "display_name": "Python 3",
   "language": "python",
   "name": "python3"
  },
  "language_info": {
   "codemirror_mode": {
    "name": "ipython",
    "version": 3
   },
   "file_extension": ".py",
   "mimetype": "text/x-python",
   "name": "python",
   "nbconvert_exporter": "python",
   "pygments_lexer": "ipython3",
   "version": "3.9.13"
  },
  "toc-autonumbering": false
 },
 "nbformat": 4,
 "nbformat_minor": 4
}